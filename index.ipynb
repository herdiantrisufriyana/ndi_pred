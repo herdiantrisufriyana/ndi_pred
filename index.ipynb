{
 "cells": [
  {
   "cell_type": "markdown",
   "id": "226448c5-497f-432e-a7f9-fe3fa2a5cb98",
   "metadata": {},
   "source": [
    "# Programming environment"
   ]
  },
  {
   "cell_type": "code",
   "execution_count": 1,
   "id": "c64b8b7e-6102-44c1-a95e-0a50b09a6124",
   "metadata": {},
   "outputs": [],
   "source": [
    "# Define the seed for reproducibility\n",
    "seed = 2024-9-10"
   ]
  },
  {
   "cell_type": "code",
   "execution_count": 2,
   "id": "ae8b8b50-af8f-4620-9bc1-9f3d2ae3b5ab",
   "metadata": {},
   "outputs": [],
   "source": [
    "# Load existing functions from libraries\n",
    "from sklearn.metrics import mean_squared_error, make_scorer, precision_score"
   ]
  },
  {
   "cell_type": "code",
   "execution_count": 3,
   "id": "dacd29ba-9f9c-4444-9349-378426e0a283",
   "metadata": {},
   "outputs": [],
   "source": [
    "# Load custom functions from utils.py\n",
    "from utils import train_and_save_model, load_and_predict"
   ]
  },
  {
   "cell_type": "code",
   "execution_count": 4,
   "id": "c8db6992-8c0f-45f5-8a7b-50819c2807ef",
   "metadata": {},
   "outputs": [],
   "source": [
    "from sklearn.linear_model import LogisticRegression, Ridge\n",
    "import numpy as np\n",
    "\n",
    "# Define models and their parameter grids focused solely on Ridge models\n",
    "models_and_params = {\n",
    "    'LogisticRegression': {\n",
    "        'model': LogisticRegression(penalty='l2', solver='lbfgs', max_iter=1000),\n",
    "        'param_grid': {\n",
    "            'C': np.logspace(-4, 4, 10)  # Logistic regression C parameter\n",
    "        }\n",
    "    },\n",
    "    'RidgeRegression': {\n",
    "        'model': Ridge(),\n",
    "        'param_grid': {\n",
    "            'alpha': np.logspace(-4, 4, 10)  # Ridge regression alpha parameter\n",
    "        }\n",
    "    }\n",
    "}"
   ]
  },
  {
   "cell_type": "markdown",
   "id": "5f1d5186-dcd1-48ea-b29c-d0fe3b013b40",
   "metadata": {},
   "source": [
    "# Predictive modeling"
   ]
  },
  {
   "cell_type": "markdown",
   "id": "7f4f20cb-aad3-4b45-80c2-7949ba850769",
   "metadata": {},
   "source": [
    "## Survival prediction"
   ]
  },
  {
   "cell_type": "code",
   "execution_count": 24,
   "id": "dbcddc98-6e9d-4aca-bd20-4647a2c1713f",
   "metadata": {},
   "outputs": [
    {
     "name": "stdout",
     "output_type": "stream",
     "text": [
      "Scaler saved at inst/extdata/model/survive_baseline1_scaler.joblib\n",
      "Model saved at inst/extdata/model/survive_baseline1_best_model.joblib\n",
      "Results saved at inst/extdata/model/survive_baseline1_train_prob.csv\n",
      "Results saved at inst/extdata/model/survive_baseline1_validation_prob.csv\n",
      "Results saved at inst/extdata/model/survive_baseline1_test_prob.csv\n"
     ]
    }
   ],
   "source": [
    "prefix = 'survive_baseline1'\n",
    "model_name = 'LogisticRegression'\n",
    "model_dir = 'model'\n",
    "\n",
    "train_and_save_model(prefix, models_and_params[model_name], model_dir)\n",
    "\n",
    "output_type = 'probability'\n",
    "load_and_predict(prefix, 'train', output_type, model_dir)\n",
    "load_and_predict(prefix, 'validation', output_type, model_dir)\n",
    "load_and_predict(prefix, 'test', output_type, model_dir)"
   ]
  },
  {
   "cell_type": "code",
   "execution_count": 25,
   "id": "56213535-85ea-4c8f-aeb3-583f842ce321",
   "metadata": {},
   "outputs": [
    {
     "name": "stdout",
     "output_type": "stream",
     "text": [
      "Scaler saved at inst/extdata/model/survive_stack_scaler.joblib\n",
      "Model saved at inst/extdata/model/survive_stack_best_model.joblib\n",
      "Results saved at inst/extdata/model/survive_stack_train_prob.csv\n",
      "Results saved at inst/extdata/model/survive_stack_validation_prob.csv\n",
      "Results saved at inst/extdata/model/survive_stack_test_prob.csv\n"
     ]
    }
   ],
   "source": [
    "prefix = 'survive_stack'\n",
    "model_name = 'LogisticRegression'\n",
    "model_dir = 'model'\n",
    "\n",
    "train_and_save_model(prefix, models_and_params[model_name], model_dir)\n",
    "\n",
    "output_type = 'probability'\n",
    "load_and_predict(prefix, 'train', output_type, model_dir)\n",
    "load_and_predict(prefix, 'validation', output_type, model_dir)\n",
    "load_and_predict(prefix, 'test', output_type, model_dir)"
   ]
  },
  {
   "cell_type": "markdown",
   "id": "64f34d50-5409-465f-b53e-2b199b974184",
   "metadata": {},
   "source": [
    "## Severe ROP prediction"
   ]
  },
  {
   "cell_type": "code",
   "execution_count": 26,
   "id": "a1023e9d-4602-4844-b9d0-853199f65a7e",
   "metadata": {},
   "outputs": [
    {
     "name": "stdout",
     "output_type": "stream",
     "text": [
      "Scaler saved at inst/extdata/model/rop_severe_baseline2_scaler.joblib\n",
      "Model saved at inst/extdata/model/rop_severe_baseline2_best_model.joblib\n",
      "Results saved at inst/extdata/model/rop_severe_baseline2_train_prob.csv\n",
      "Results saved at inst/extdata/model/rop_severe_baseline2_validation_prob.csv\n",
      "Results saved at inst/extdata/model/rop_severe_baseline2_test_prob.csv\n"
     ]
    }
   ],
   "source": [
    "prefix = 'rop_severe_baseline2'\n",
    "model_name = 'LogisticRegression'\n",
    "model_dir = 'model'\n",
    "\n",
    "custom_precision = make_scorer(precision_score, zero_division=0)\n",
    "train_and_save_model(prefix, models_and_params[model_name], model_dir, scoring=custom_precision)\n",
    "\n",
    "output_type = 'probability'\n",
    "load_and_predict(prefix, 'train', output_type, model_dir)\n",
    "load_and_predict(prefix, 'validation', output_type, model_dir)\n",
    "load_and_predict(prefix, 'test', output_type, model_dir)"
   ]
  },
  {
   "cell_type": "code",
   "execution_count": 32,
   "id": "f5085a9b-b4b0-4d64-be07-82bef9ab4d6f",
   "metadata": {},
   "outputs": [
    {
     "name": "stdout",
     "output_type": "stream",
     "text": [
      "Scaler saved at inst/extdata/model/rop_severe_stack1_scaler.joblib\n",
      "Model saved at inst/extdata/model/rop_severe_stack1_best_model.joblib\n",
      "Results saved at inst/extdata/model/rop_severe_stack1_train_prob.csv\n",
      "Results saved at inst/extdata/model/rop_severe_stack1_validation_prob.csv\n",
      "Results saved at inst/extdata/model/rop_severe_stack1_test_prob.csv\n"
     ]
    }
   ],
   "source": [
    "prefix = 'rop_severe_stack1'\n",
    "model_name = 'LogisticRegression'\n",
    "model_dir = 'model'\n",
    "\n",
    "custom_precision = make_scorer(precision_score, zero_division=0)\n",
    "train_and_save_model(prefix, models_and_params[model_name], model_dir, scoring=custom_precision)\n",
    "\n",
    "output_type = 'probability'\n",
    "load_and_predict(prefix, 'train', output_type, model_dir)\n",
    "load_and_predict(prefix, 'validation', output_type, model_dir)\n",
    "load_and_predict(prefix, 'test', output_type, model_dir)"
   ]
  },
  {
   "cell_type": "code",
   "execution_count": 33,
   "id": "089f0ef5-6d15-4987-95fd-4aceb38e261f",
   "metadata": {},
   "outputs": [
    {
     "name": "stdout",
     "output_type": "stream",
     "text": [
      "Scaler saved at inst/extdata/model/rop_severe_stack_scaler.joblib\n",
      "Model saved at inst/extdata/model/rop_severe_stack_best_model.joblib\n",
      "Results saved at inst/extdata/model/rop_severe_stack_train_prob.csv\n",
      "Results saved at inst/extdata/model/rop_severe_stack_validation_prob.csv\n",
      "Results saved at inst/extdata/model/rop_severe_stack_test_prob.csv\n"
     ]
    }
   ],
   "source": [
    "prefix = 'rop_severe_stack'\n",
    "model_name = 'LogisticRegression'\n",
    "model_dir = 'model'\n",
    "\n",
    "custom_precision = make_scorer(precision_score, zero_division=0)\n",
    "train_and_save_model(prefix, models_and_params[model_name], model_dir, scoring=custom_precision)\n",
    "\n",
    "output_type = 'probability'\n",
    "load_and_predict(prefix, 'train', output_type, model_dir)\n",
    "load_and_predict(prefix, 'validation', output_type, model_dir)\n",
    "load_and_predict(prefix, 'test', output_type, model_dir)"
   ]
  },
  {
   "cell_type": "markdown",
   "id": "9816e4cf-8861-4831-bcf0-dda421e91464",
   "metadata": {},
   "source": [
    "## BPD prediction"
   ]
  },
  {
   "cell_type": "code",
   "execution_count": 34,
   "id": "31d34852-1224-4e8a-80ca-973538c77661",
   "metadata": {},
   "outputs": [
    {
     "name": "stdout",
     "output_type": "stream",
     "text": [
      "Scaler saved at inst/extdata/model/bpd_baseline2_scaler.joblib\n",
      "Model saved at inst/extdata/model/bpd_baseline2_best_model.joblib\n",
      "Results saved at inst/extdata/model/bpd_baseline2_train_prob.csv\n",
      "Results saved at inst/extdata/model/bpd_baseline2_validation_prob.csv\n",
      "Results saved at inst/extdata/model/bpd_baseline2_test_prob.csv\n"
     ]
    }
   ],
   "source": [
    "prefix = 'bpd_baseline2'\n",
    "model_name = 'LogisticRegression'\n",
    "model_dir = 'model'\n",
    "\n",
    "custom_precision = make_scorer(precision_score, zero_division=0)\n",
    "train_and_save_model(prefix, models_and_params[model_name], model_dir, scoring=custom_precision)\n",
    "\n",
    "output_type = 'probability'\n",
    "load_and_predict(prefix, 'train', output_type, model_dir)\n",
    "load_and_predict(prefix, 'validation', output_type, model_dir)\n",
    "load_and_predict(prefix, 'test', output_type, model_dir)"
   ]
  },
  {
   "cell_type": "code",
   "execution_count": 35,
   "id": "781e91a7-3101-41d1-88c1-5f73abdbb755",
   "metadata": {},
   "outputs": [
    {
     "name": "stdout",
     "output_type": "stream",
     "text": [
      "Scaler saved at inst/extdata/model/bpd_stack1_scaler.joblib\n",
      "Model saved at inst/extdata/model/bpd_stack1_best_model.joblib\n",
      "Results saved at inst/extdata/model/bpd_stack1_train_prob.csv\n",
      "Results saved at inst/extdata/model/bpd_stack1_validation_prob.csv\n",
      "Results saved at inst/extdata/model/bpd_stack1_test_prob.csv\n"
     ]
    }
   ],
   "source": [
    "prefix = 'bpd_stack1'\n",
    "model_name = 'LogisticRegression'\n",
    "model_dir = 'model'\n",
    "\n",
    "custom_precision = make_scorer(precision_score, zero_division=0)\n",
    "train_and_save_model(prefix, models_and_params[model_name], model_dir, scoring=custom_precision)\n",
    "\n",
    "output_type = 'probability'\n",
    "load_and_predict(prefix, 'train', output_type, model_dir)\n",
    "load_and_predict(prefix, 'validation', output_type, model_dir)\n",
    "load_and_predict(prefix, 'test', output_type, model_dir)"
   ]
  },
  {
   "cell_type": "code",
   "execution_count": 36,
   "id": "d68ee9b8-ee7e-4ce0-a8ad-4b21ae29edf6",
   "metadata": {},
   "outputs": [
    {
     "name": "stdout",
     "output_type": "stream",
     "text": [
      "Scaler saved at inst/extdata/model/bpd_stack_scaler.joblib\n",
      "Model saved at inst/extdata/model/bpd_stack_best_model.joblib\n",
      "Results saved at inst/extdata/model/bpd_stack_train_prob.csv\n",
      "Results saved at inst/extdata/model/bpd_stack_validation_prob.csv\n",
      "Results saved at inst/extdata/model/bpd_stack_test_prob.csv\n"
     ]
    }
   ],
   "source": [
    "prefix = 'bpd_stack'\n",
    "model_name = 'LogisticRegression'\n",
    "model_dir = 'model'\n",
    "\n",
    "custom_precision = make_scorer(precision_score, zero_division=0)\n",
    "train_and_save_model(prefix, models_and_params[model_name], model_dir, scoring=custom_precision)\n",
    "\n",
    "output_type = 'probability'\n",
    "load_and_predict(prefix, 'train', output_type, model_dir)\n",
    "load_and_predict(prefix, 'validation', output_type, model_dir)\n",
    "load_and_predict(prefix, 'test', output_type, model_dir)"
   ]
  },
  {
   "cell_type": "markdown",
   "id": "3fcbdcea-fb17-496c-9b4b-0e20a934e5ce",
   "metadata": {},
   "source": [
    "## Moderate/severe BPD prediction"
   ]
  },
  {
   "cell_type": "code",
   "execution_count": 38,
   "id": "019462b1-d6eb-4d60-8123-d9a7ab042dec",
   "metadata": {},
   "outputs": [
    {
     "name": "stdout",
     "output_type": "stream",
     "text": [
      "Scaler saved at inst/extdata/model/bpd_moderate_severe_baseline3_scaler.joblib\n",
      "Model saved at inst/extdata/model/bpd_moderate_severe_baseline3_best_model.joblib\n",
      "Results saved at inst/extdata/model/bpd_moderate_severe_baseline3_train_prob.csv\n",
      "Results saved at inst/extdata/model/bpd_moderate_severe_baseline3_validation_prob.csv\n",
      "Results saved at inst/extdata/model/bpd_moderate_severe_baseline3_test_prob.csv\n"
     ]
    }
   ],
   "source": [
    "prefix = 'bpd_moderate_severe_baseline3'\n",
    "model_name = 'LogisticRegression'\n",
    "model_dir = 'model'\n",
    "\n",
    "custom_precision = make_scorer(precision_score, zero_division=0)\n",
    "train_and_save_model(prefix, models_and_params[model_name], model_dir, scoring=custom_precision)\n",
    "\n",
    "output_type = 'probability'\n",
    "load_and_predict(prefix, 'train', output_type, model_dir)\n",
    "load_and_predict(prefix, 'validation', output_type, model_dir)\n",
    "load_and_predict(prefix, 'test', output_type, model_dir)"
   ]
  },
  {
   "cell_type": "code",
   "execution_count": 39,
   "id": "a9035bfe-9270-4b39-87df-f24c173a47ae",
   "metadata": {},
   "outputs": [
    {
     "name": "stdout",
     "output_type": "stream",
     "text": [
      "Scaler saved at inst/extdata/model/bpd_moderate_severe_stack1_scaler.joblib\n",
      "Model saved at inst/extdata/model/bpd_moderate_severe_stack1_best_model.joblib\n",
      "Results saved at inst/extdata/model/bpd_moderate_severe_stack1_train_prob.csv\n",
      "Results saved at inst/extdata/model/bpd_moderate_severe_stack1_validation_prob.csv\n",
      "Results saved at inst/extdata/model/bpd_moderate_severe_stack1_test_prob.csv\n"
     ]
    }
   ],
   "source": [
    "prefix = 'bpd_moderate_severe_stack1'\n",
    "model_name = 'LogisticRegression'\n",
    "model_dir = 'model'\n",
    "\n",
    "custom_precision = make_scorer(precision_score, zero_division=0)\n",
    "train_and_save_model(prefix, models_and_params[model_name], model_dir, scoring=custom_precision)\n",
    "\n",
    "output_type = 'probability'\n",
    "load_and_predict(prefix, 'train', output_type, model_dir)\n",
    "load_and_predict(prefix, 'validation', output_type, model_dir)\n",
    "load_and_predict(prefix, 'test', output_type, model_dir)"
   ]
  },
  {
   "cell_type": "code",
   "execution_count": 40,
   "id": "534a1fd3-b975-457a-a5de-a607b39661d8",
   "metadata": {},
   "outputs": [
    {
     "name": "stdout",
     "output_type": "stream",
     "text": [
      "Scaler saved at inst/extdata/model/bpd_moderate_severe_stack2_scaler.joblib\n",
      "Model saved at inst/extdata/model/bpd_moderate_severe_stack2_best_model.joblib\n",
      "Results saved at inst/extdata/model/bpd_moderate_severe_stack2_train_prob.csv\n",
      "Results saved at inst/extdata/model/bpd_moderate_severe_stack2_validation_prob.csv\n",
      "Results saved at inst/extdata/model/bpd_moderate_severe_stack2_test_prob.csv\n"
     ]
    }
   ],
   "source": [
    "prefix = 'bpd_moderate_severe_stack2'\n",
    "model_name = 'LogisticRegression'\n",
    "model_dir = 'model'\n",
    "\n",
    "custom_precision = make_scorer(precision_score, zero_division=0)\n",
    "train_and_save_model(prefix, models_and_params[model_name], model_dir, scoring=custom_precision)\n",
    "\n",
    "output_type = 'probability'\n",
    "load_and_predict(prefix, 'train', output_type, model_dir)\n",
    "load_and_predict(prefix, 'validation', output_type, model_dir)\n",
    "load_and_predict(prefix, 'test', output_type, model_dir)"
   ]
  },
  {
   "cell_type": "code",
   "execution_count": 41,
   "id": "68284a6f-fcf0-4ae2-bb73-42a5014e5224",
   "metadata": {},
   "outputs": [
    {
     "name": "stdout",
     "output_type": "stream",
     "text": [
      "Scaler saved at inst/extdata/model/bpd_moderate_severe_stack_scaler.joblib\n",
      "Model saved at inst/extdata/model/bpd_moderate_severe_stack_best_model.joblib\n",
      "Results saved at inst/extdata/model/bpd_moderate_severe_stack_train_prob.csv\n",
      "Results saved at inst/extdata/model/bpd_moderate_severe_stack_validation_prob.csv\n",
      "Results saved at inst/extdata/model/bpd_moderate_severe_stack_test_prob.csv\n"
     ]
    }
   ],
   "source": [
    "prefix = 'bpd_moderate_severe_stack'\n",
    "model_name = 'LogisticRegression'\n",
    "model_dir = 'model'\n",
    "\n",
    "custom_precision = make_scorer(precision_score, zero_division=0)\n",
    "train_and_save_model(prefix, models_and_params[model_name], model_dir, scoring=custom_precision)\n",
    "\n",
    "output_type = 'probability'\n",
    "load_and_predict(prefix, 'train', output_type, model_dir)\n",
    "load_and_predict(prefix, 'validation', output_type, model_dir)\n",
    "load_and_predict(prefix, 'test', output_type, model_dir)"
   ]
  },
  {
   "cell_type": "markdown",
   "id": "b4f0bada-6afe-4434-86fb-bb89dd12feae",
   "metadata": {},
   "source": [
    "## EUGR-HC prediction"
   ]
  },
  {
   "cell_type": "code",
   "execution_count": 43,
   "id": "dce97493-7dc9-4426-b542-485c1604d24f",
   "metadata": {},
   "outputs": [
    {
     "name": "stdout",
     "output_type": "stream",
     "text": [
      "Scaler saved at inst/extdata/model/eugr_hc_baseline2_scaler.joblib\n",
      "Model saved at inst/extdata/model/eugr_hc_baseline2_best_model.joblib\n",
      "Results saved at inst/extdata/model/eugr_hc_baseline2_train_prob.csv\n",
      "Results saved at inst/extdata/model/eugr_hc_baseline2_validation_prob.csv\n",
      "Results saved at inst/extdata/model/eugr_hc_baseline2_test_prob.csv\n"
     ]
    }
   ],
   "source": [
    "prefix = 'eugr_hc_baseline2'\n",
    "model_name = 'LogisticRegression'\n",
    "model_dir = 'model'\n",
    "\n",
    "custom_precision = make_scorer(precision_score, zero_division=0)\n",
    "train_and_save_model(prefix, models_and_params[model_name], model_dir, scoring=custom_precision)\n",
    "\n",
    "output_type = 'probability'\n",
    "load_and_predict(prefix, 'train', output_type, model_dir)\n",
    "load_and_predict(prefix, 'validation', output_type, model_dir)\n",
    "load_and_predict(prefix, 'test', output_type, model_dir)"
   ]
  },
  {
   "cell_type": "code",
   "execution_count": 44,
   "id": "321b2318-4ad2-4801-9518-f26f4a4265f3",
   "metadata": {},
   "outputs": [
    {
     "name": "stdout",
     "output_type": "stream",
     "text": [
      "Scaler saved at inst/extdata/model/eugr_hc_stack1_scaler.joblib\n",
      "Model saved at inst/extdata/model/eugr_hc_stack1_best_model.joblib\n",
      "Results saved at inst/extdata/model/eugr_hc_stack1_train_prob.csv\n",
      "Results saved at inst/extdata/model/eugr_hc_stack1_validation_prob.csv\n",
      "Results saved at inst/extdata/model/eugr_hc_stack1_test_prob.csv\n"
     ]
    }
   ],
   "source": [
    "prefix = 'eugr_hc_stack1'\n",
    "model_name = 'LogisticRegression'\n",
    "model_dir = 'model'\n",
    "\n",
    "custom_precision = make_scorer(precision_score, zero_division=0)\n",
    "train_and_save_model(prefix, models_and_params[model_name], model_dir, scoring=custom_precision)\n",
    "\n",
    "output_type = 'probability'\n",
    "load_and_predict(prefix, 'train', output_type, model_dir)\n",
    "load_and_predict(prefix, 'validation', output_type, model_dir)\n",
    "load_and_predict(prefix, 'test', output_type, model_dir)"
   ]
  },
  {
   "cell_type": "code",
   "execution_count": 46,
   "id": "d2d26406-a833-45cf-b9d7-bce67d404fa5",
   "metadata": {},
   "outputs": [
    {
     "name": "stdout",
     "output_type": "stream",
     "text": [
      "Scaler saved at inst/extdata/model/eugr_hc_stack_scaler.joblib\n",
      "Model saved at inst/extdata/model/eugr_hc_stack_best_model.joblib\n",
      "Results saved at inst/extdata/model/eugr_hc_stack_train_prob.csv\n",
      "Results saved at inst/extdata/model/eugr_hc_stack_validation_prob.csv\n",
      "Results saved at inst/extdata/model/eugr_hc_stack_test_prob.csv\n"
     ]
    }
   ],
   "source": [
    "prefix = 'eugr_hc_stack'\n",
    "model_name = 'LogisticRegression'\n",
    "model_dir = 'model'\n",
    "\n",
    "custom_precision = make_scorer(precision_score, zero_division=0)\n",
    "train_and_save_model(prefix, models_and_params[model_name], model_dir, scoring=custom_precision)\n",
    "\n",
    "output_type = 'probability'\n",
    "load_and_predict(prefix, 'train', output_type, model_dir)\n",
    "load_and_predict(prefix, 'validation', output_type, model_dir)\n",
    "load_and_predict(prefix, 'test', output_type, model_dir)"
   ]
  },
  {
   "cell_type": "markdown",
   "id": "5fae5b6a-cc7a-4326-a778-6675b9c97e33",
   "metadata": {},
   "source": [
    "## EUGR-BW prediction"
   ]
  },
  {
   "cell_type": "code",
   "execution_count": 53,
   "id": "c9d6385b-0641-41c4-ad51-aa1fd02bad23",
   "metadata": {},
   "outputs": [
    {
     "name": "stdout",
     "output_type": "stream",
     "text": [
      "Scaler saved at inst/extdata/model/eugr_bw_stack_scaler.joblib\n",
      "Model saved at inst/extdata/model/eugr_bw_stack_best_model.joblib\n",
      "Results saved at inst/extdata/model/eugr_bw_stack_train_prob.csv\n",
      "Results saved at inst/extdata/model/eugr_bw_stack_validation_prob.csv\n",
      "Results saved at inst/extdata/model/eugr_bw_stack_test_prob.csv\n"
     ]
    }
   ],
   "source": [
    "prefix = 'eugr_bw_stack'\n",
    "model_name = 'LogisticRegression'\n",
    "model_dir = 'model'\n",
    "\n",
    "train_and_save_model(prefix, models_and_params[model_name], model_dir)\n",
    "\n",
    "output_type = 'probability'\n",
    "load_and_predict(prefix, 'train', output_type, model_dir)\n",
    "load_and_predict(prefix, 'validation', output_type, model_dir)\n",
    "load_and_predict(prefix, 'test', output_type, model_dir)"
   ]
  },
  {
   "cell_type": "markdown",
   "id": "afa4055d-cef6-4be6-978e-6f7a7ab40643",
   "metadata": {},
   "source": [
    "## Failed hearing test prediction"
   ]
  },
  {
   "cell_type": "code",
   "execution_count": 60,
   "id": "c00d9853-9cbb-4a6c-a86d-96237244f2d9",
   "metadata": {},
   "outputs": [
    {
     "name": "stdout",
     "output_type": "stream",
     "text": [
      "Scaler saved at inst/extdata/model/hearing_stack_scaler.joblib\n",
      "Model saved at inst/extdata/model/hearing_stack_best_model.joblib\n",
      "Results saved at inst/extdata/model/hearing_stack_train_prob.csv\n",
      "Results saved at inst/extdata/model/hearing_stack_validation_prob.csv\n",
      "Results saved at inst/extdata/model/hearing_stack_test_prob.csv\n"
     ]
    }
   ],
   "source": [
    "prefix = 'hearing_stack'\n",
    "model_name = 'LogisticRegression'\n",
    "model_dir = 'model'\n",
    "\n",
    "custom_precision = make_scorer(precision_score, zero_division=0)\n",
    "train_and_save_model(prefix, models_and_params[model_name], model_dir, scoring=custom_precision)\n",
    "\n",
    "output_type = 'probability'\n",
    "load_and_predict(prefix, 'train', output_type, model_dir)\n",
    "load_and_predict(prefix, 'validation', output_type, model_dir)\n",
    "load_and_predict(prefix, 'test', output_type, model_dir)"
   ]
  },
  {
   "cell_type": "code",
   "execution_count": null,
   "id": "7ed33b2e-a277-45e9-b0e1-586a1d94e268",
   "metadata": {},
   "outputs": [],
   "source": []
  }
 ],
 "metadata": {
  "kernelspec": {
   "display_name": "Python 3 (ipykernel)",
   "language": "python",
   "name": "python3"
  },
  "language_info": {
   "codemirror_mode": {
    "name": "ipython",
    "version": 3
   },
   "file_extension": ".py",
   "mimetype": "text/x-python",
   "name": "python",
   "nbconvert_exporter": "python",
   "pygments_lexer": "ipython3",
   "version": "3.12.4"
  }
 },
 "nbformat": 4,
 "nbformat_minor": 5
}
