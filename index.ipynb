{
 "cells": [
  {
   "cell_type": "markdown",
   "id": "226448c5-497f-432e-a7f9-fe3fa2a5cb98",
   "metadata": {},
   "source": [
    "# Programming environment"
   ]
  },
  {
   "cell_type": "code",
   "execution_count": 1,
   "id": "c64b8b7e-6102-44c1-a95e-0a50b09a6124",
   "metadata": {},
   "outputs": [],
   "source": [
    "# Define the seed for reproducibility\n",
    "seed = 2024-9-10"
   ]
  },
  {
   "cell_type": "code",
   "execution_count": 2,
   "id": "ae8b8b50-af8f-4620-9bc1-9f3d2ae3b5ab",
   "metadata": {},
   "outputs": [],
   "source": [
    "# Load existing functions from libraries\n",
    "from sklearn.metrics import mean_squared_error, make_scorer, precision_score"
   ]
  },
  {
   "cell_type": "code",
   "execution_count": 3,
   "id": "dacd29ba-9f9c-4444-9349-378426e0a283",
   "metadata": {},
   "outputs": [],
   "source": [
    "# Load custom functions from utils.py\n",
    "from utils import train_and_save_model, load_and_predict"
   ]
  },
  {
   "cell_type": "code",
   "execution_count": 4,
   "id": "c8db6992-8c0f-45f5-8a7b-50819c2807ef",
   "metadata": {},
   "outputs": [],
   "source": [
    "from sklearn.linear_model import LogisticRegression, Ridge\n",
    "import numpy as np\n",
    "\n",
    "# Define models and their parameter grids focused solely on Ridge models\n",
    "models_and_params = {\n",
    "    'LogisticRegression': {\n",
    "        'model': LogisticRegression(penalty='l2', solver='lbfgs', max_iter=1000),\n",
    "        'param_grid': {\n",
    "            'C': np.logspace(-4, 4, 10)  # Logistic regression C parameter\n",
    "        }\n",
    "    },\n",
    "    'RidgeRegression': {\n",
    "        'model': Ridge(),\n",
    "        'param_grid': {\n",
    "            'alpha': np.logspace(-4, 4, 10)  # Ridge regression alpha parameter\n",
    "        }\n",
    "    }\n",
    "}"
   ]
  },
  {
   "cell_type": "markdown",
   "id": "5f1d5186-dcd1-48ea-b29c-d0fe3b013b40",
   "metadata": {},
   "source": [
    "# Predictive modeling"
   ]
  },
  {
   "cell_type": "markdown",
   "id": "7f4f20cb-aad3-4b45-80c2-7949ba850769",
   "metadata": {},
   "source": [
    "## Survival prediction"
   ]
  },
  {
   "cell_type": "code",
   "execution_count": 5,
   "id": "dbcddc98-6e9d-4aca-bd20-4647a2c1713f",
   "metadata": {},
   "outputs": [
    {
     "name": "stdout",
     "output_type": "stream",
     "text": [
      "Scaler saved at inst/extdata/model/survive_baseline1_scaler.joblib\n",
      "Model saved at inst/extdata/model/survive_baseline1_best_model.joblib\n",
      "Results saved at inst/extdata/model/survive_baseline1_train_prob.csv\n",
      "Results saved at inst/extdata/model/survive_baseline1_validation_prob.csv\n",
      "Results saved at inst/extdata/model/survive_baseline1_test_prob.csv\n"
     ]
    }
   ],
   "source": [
    "prefix = 'survive_baseline1'\n",
    "model_name = 'LogisticRegression'\n",
    "model_dir = 'model'\n",
    "\n",
    "train_and_save_model(prefix, models_and_params[model_name], model_dir)\n",
    "\n",
    "output_type = 'probability'\n",
    "load_and_predict(prefix, 'train', output_type, model_dir)\n",
    "load_and_predict(prefix, 'validation', output_type, model_dir)\n",
    "load_and_predict(prefix, 'test', output_type, model_dir)"
   ]
  },
  {
   "cell_type": "code",
   "execution_count": 6,
   "id": "56213535-85ea-4c8f-aeb3-583f842ce321",
   "metadata": {},
   "outputs": [
    {
     "name": "stdout",
     "output_type": "stream",
     "text": [
      "Scaler saved at inst/extdata/model/survive_residual1_scaler.joblib\n",
      "Model saved at inst/extdata/model/survive_residual1_best_model.joblib\n",
      "Results saved at inst/extdata/model/survive_residual1_train_predictions.csv\n",
      "Results saved at inst/extdata/model/survive_residual1_validation_predictions.csv\n",
      "Results saved at inst/extdata/model/survive_residual1_test_predictions.csv\n"
     ]
    }
   ],
   "source": [
    "prefix = 'survive_residual1'\n",
    "model_name = 'RidgeRegression'\n",
    "model_dir = 'model'\n",
    "\n",
    "neg_mse_scorer = make_scorer(mean_squared_error, greater_is_better=False)\n",
    "train_and_save_model(prefix, models_and_params[model_name], model_dir, scoring=neg_mse_scorer, task = 'regression')\n",
    "\n",
    "output_type = 'label'\n",
    "load_and_predict(prefix, 'train', output_type, model_dir)\n",
    "load_and_predict(prefix, 'validation', output_type, model_dir)\n",
    "load_and_predict(prefix, 'test', output_type, model_dir)"
   ]
  },
  {
   "cell_type": "code",
   "execution_count": null,
   "id": "66a2f314-9a2f-45df-9451-1d16edecdc47",
   "metadata": {},
   "outputs": [],
   "source": []
  }
 ],
 "metadata": {
  "kernelspec": {
   "display_name": "Python 3 (ipykernel)",
   "language": "python",
   "name": "python3"
  },
  "language_info": {
   "codemirror_mode": {
    "name": "ipython",
    "version": 3
   },
   "file_extension": ".py",
   "mimetype": "text/x-python",
   "name": "python",
   "nbconvert_exporter": "python",
   "pygments_lexer": "ipython3",
   "version": "3.12.4"
  }
 },
 "nbformat": 4,
 "nbformat_minor": 5
}
