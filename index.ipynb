{
 "cells": [
  {
   "cell_type": "markdown",
   "id": "226448c5-497f-432e-a7f9-fe3fa2a5cb98",
   "metadata": {},
   "source": [
    "# Programming environment"
   ]
  },
  {
   "cell_type": "code",
   "execution_count": 1,
   "id": "c64b8b7e-6102-44c1-a95e-0a50b09a6124",
   "metadata": {},
   "outputs": [],
   "source": [
    "# Define the seed for reproducibility\n",
    "seed = 2024-9-10"
   ]
  },
  {
   "cell_type": "code",
   "execution_count": 2,
   "id": "ae8b8b50-af8f-4620-9bc1-9f3d2ae3b5ab",
   "metadata": {},
   "outputs": [],
   "source": [
    "# Load existing functions from libraries\n",
    "from sklearn.metrics import mean_squared_error, make_scorer, precision_score"
   ]
  },
  {
   "cell_type": "code",
   "execution_count": 3,
   "id": "dacd29ba-9f9c-4444-9349-378426e0a283",
   "metadata": {},
   "outputs": [
    {
     "name": "stderr",
     "output_type": "stream",
     "text": [
      "IProgress not found. Please update jupyter and ipywidgets. See https://ipywidgets.readthedocs.io/en/stable/user_install.html\n"
     ]
    }
   ],
   "source": [
    "# Load custom functions from utils.py\n",
    "from utils import train_and_save_model, load_and_predict, compute_shap_values"
   ]
  },
  {
   "cell_type": "code",
   "execution_count": 4,
   "id": "c8db6992-8c0f-45f5-8a7b-50819c2807ef",
   "metadata": {},
   "outputs": [],
   "source": [
    "from sklearn.linear_model import LogisticRegression\n",
    "from sklearn.ensemble import RandomForestClassifier, GradientBoostingClassifier\n",
    "from sklearn.svm import SVC\n",
    "from sklearn.neural_network import MLPClassifier\n",
    "\n",
    "# Adding the required numpy import for parameter scaling\n",
    "import numpy as np\n",
    "\n",
    "# Define models and their parameter grids\n",
    "models_and_params = {\n",
    "    'LogisticRegression': {\n",
    "        'model': LogisticRegression(penalty='l2', solver='lbfgs', max_iter=1000),\n",
    "        'param_grid': {\n",
    "            'C': np.logspace(-4, 4, 10)  # Regularization strength for logistic regression\n",
    "        }\n",
    "    },\n",
    "    'RandomForest': {\n",
    "        'model': RandomForestClassifier(min_samples_split=20, max_features=None),\n",
    "        'param_grid': {\n",
    "            'n_estimators': [100, 200, 300],  # Number of trees in the forest\n",
    "            'max_depth': [3, 5, 10]  # Maximum depth of the tree\n",
    "        }\n",
    "    },\n",
    "    'GradientBoosting': {\n",
    "        'model': GradientBoostingClassifier(learning_rate=0.01),\n",
    "        'param_grid': {\n",
    "            'n_estimators': [100, 200, 300],  # Number of boosting stages to perform\n",
    "            'max_depth': [3, 5, 10]  # Maximum depth of the individual regression estimators\n",
    "        }\n",
    "    },\n",
    "    'DeepNeuralNetwork': {\n",
    "        'model': MLPClassifier(max_iter=1000, hidden_layer_sizes=(50, 50), activation='relu', solver = 'sgd', learning_rate_init=0.001),\n",
    "        'param_grid': {\n",
    "            'alpha': np.logspace(-4, 4, 10)  # L2 penalty (regularization term) parameter\n",
    "        }\n",
    "    }\n",
    "}"
   ]
  },
  {
   "cell_type": "code",
   "execution_count": 5,
   "id": "15708dd7-5f91-4274-bc77-e2d0c4abb221",
   "metadata": {},
   "outputs": [],
   "source": [
    "import shap\n",
    "\n",
    "# Corresponding explainers\n",
    "explainers = {\n",
    "    'LogisticRegression': shap.LinearExplainer,\n",
    "    'RandomForest': shap.TreeExplainer,\n",
    "    'GradientBoosting': shap.TreeExplainer,\n",
    "    'DeepNeuralNetwork': shap.KernelExplainer\n",
    "}"
   ]
  },
  {
   "cell_type": "markdown",
   "id": "5f1d5186-dcd1-48ea-b29c-d0fe3b013b40",
   "metadata": {},
   "source": [
    "# Predictive modeling"
   ]
  },
  {
   "cell_type": "markdown",
   "id": "7f4f20cb-aad3-4b45-80c2-7949ba850769",
   "metadata": {},
   "source": [
    "## Survival prediction"
   ]
  },
  {
   "cell_type": "code",
   "execution_count": 6,
   "id": "dbcddc98-6e9d-4aca-bd20-4647a2c1713f",
   "metadata": {},
   "outputs": [
    {
     "name": "stdout",
     "output_type": "stream",
     "text": [
      "Scaler saved at inst/extdata/model/survive_baseline1_rr_scaler.joblib\n",
      "Model saved at inst/extdata/model/survive_baseline1_rr_best_model.joblib\n",
      "Results saved at inst/extdata/model/survive_baseline1_rr_train_prob.csv\n",
      "Results saved at inst/extdata/model/survive_baseline1_rr_validation_prob.csv\n",
      "Results saved at inst/extdata/model/survive_baseline1_rr_test_prob.csv\n"
     ]
    }
   ],
   "source": [
    "prefix = 'survive_baseline1_rr'\n",
    "model_name = 'LogisticRegression'\n",
    "model_dir = 'model'\n",
    "\n",
    "train_and_save_model(prefix, models_and_params[model_name], model_dir)\n",
    "\n",
    "output_type = 'probability'\n",
    "load_and_predict(prefix, 'train', output_type, model_dir)\n",
    "load_and_predict(prefix, 'validation', output_type, model_dir)\n",
    "load_and_predict(prefix, 'test', output_type, model_dir)"
   ]
  },
  {
   "cell_type": "code",
   "execution_count": 6,
   "id": "ef437cc0-f86f-423a-8ab7-20527dc0af26",
   "metadata": {},
   "outputs": [
    {
     "name": "stdout",
     "output_type": "stream",
     "text": [
      "Results saved at inst/extdata/model/survive_baseline1_rr_independent_test_prob.csv\n"
     ]
    }
   ],
   "source": [
    "prefix = 'survive_baseline1_rr'\n",
    "model_name = 'LogisticRegression'\n",
    "model_dir = 'model'\n",
    "\n",
    "output_type = 'probability'\n",
    "load_and_predict(prefix, 'independent_test', output_type, model_dir)"
   ]
  },
  {
   "cell_type": "code",
   "execution_count": 6,
   "id": "6c4bcddb-22ea-4dcd-a1ad-601cb60c2f25",
   "metadata": {},
   "outputs": [
    {
     "name": "stdout",
     "output_type": "stream",
     "text": [
      "Results saved at inst/extdata/model/survive_baseline1_rr_train_shap_values.csv\n"
     ]
    }
   ],
   "source": [
    "prefix = 'survive_baseline1_rr'\n",
    "model_name = 'LogisticRegression'\n",
    "model_dir = 'model'\n",
    "\n",
    "compute_shap_values(prefix, 'train', explainers[model_name], model_dir)"
   ]
  },
  {
   "cell_type": "code",
   "execution_count": 8,
   "id": "56213535-85ea-4c8f-aeb3-583f842ce321",
   "metadata": {},
   "outputs": [
    {
     "name": "stdout",
     "output_type": "stream",
     "text": [
      "Scaler saved at inst/extdata/model/survive_stack_rr_scaler.joblib\n",
      "Model saved at inst/extdata/model/survive_stack_rr_best_model.joblib\n",
      "Results saved at inst/extdata/model/survive_stack_rr_train_prob.csv\n",
      "Results saved at inst/extdata/model/survive_stack_rr_validation_prob.csv\n",
      "Results saved at inst/extdata/model/survive_stack_rr_test_prob.csv\n"
     ]
    }
   ],
   "source": [
    "prefix = 'survive_stack_rr'\n",
    "model_name = 'LogisticRegression'\n",
    "model_dir = 'model'\n",
    "\n",
    "train_and_save_model(prefix, models_and_params[model_name], model_dir)\n",
    "\n",
    "output_type = 'probability'\n",
    "load_and_predict(prefix, 'train', output_type, model_dir)\n",
    "load_and_predict(prefix, 'validation', output_type, model_dir)\n",
    "load_and_predict(prefix, 'test', output_type, model_dir)"
   ]
  },
  {
   "cell_type": "code",
   "execution_count": 7,
   "id": "c587880b-89a9-472a-9dcc-4527a6873fed",
   "metadata": {},
   "outputs": [
    {
     "name": "stdout",
     "output_type": "stream",
     "text": [
      "Results saved at inst/extdata/model/survive_stack_rr_independent_test_prob.csv\n"
     ]
    }
   ],
   "source": [
    "prefix = 'survive_stack_rr'\n",
    "model_name = 'LogisticRegression'\n",
    "model_dir = 'model'\n",
    "\n",
    "output_type = 'probability'\n",
    "load_and_predict(prefix, 'independent_test', output_type, model_dir)"
   ]
  },
  {
   "cell_type": "code",
   "execution_count": 9,
   "id": "ea2380ed-10c3-4eaf-b237-4e2dc3fdda18",
   "metadata": {},
   "outputs": [
    {
     "name": "stdout",
     "output_type": "stream",
     "text": [
      "Scaler saved at inst/extdata/model/survive_stack_rf_scaler.joblib\n",
      "Model saved at inst/extdata/model/survive_stack_rf_best_model.joblib\n",
      "Results saved at inst/extdata/model/survive_stack_rf_train_prob.csv\n",
      "Results saved at inst/extdata/model/survive_stack_rf_validation_prob.csv\n",
      "Results saved at inst/extdata/model/survive_stack_rf_test_prob.csv\n"
     ]
    }
   ],
   "source": [
    "prefix = 'survive_stack_rf'\n",
    "model_name = 'RandomForest'\n",
    "model_dir = 'model'\n",
    "\n",
    "train_and_save_model(prefix, models_and_params[model_name], model_dir)\n",
    "\n",
    "output_type = 'probability'\n",
    "load_and_predict(prefix, 'train', output_type, model_dir)\n",
    "load_and_predict(prefix, 'validation', output_type, model_dir)\n",
    "load_and_predict(prefix, 'test', output_type, model_dir)"
   ]
  },
  {
   "cell_type": "code",
   "execution_count": 8,
   "id": "4199ab9d-b678-49c4-869a-d64de64584a5",
   "metadata": {},
   "outputs": [
    {
     "name": "stdout",
     "output_type": "stream",
     "text": [
      "Results saved at inst/extdata/model/survive_stack_rf_independent_test_prob.csv\n"
     ]
    }
   ],
   "source": [
    "prefix = 'survive_stack_rf'\n",
    "model_name = 'RandomForest'\n",
    "model_dir = 'model'\n",
    "\n",
    "output_type = 'probability'\n",
    "load_and_predict(prefix, 'independent_test', output_type, model_dir)"
   ]
  },
  {
   "cell_type": "code",
   "execution_count": 10,
   "id": "a066f4eb-687b-4494-84fa-f32dc9c4d12c",
   "metadata": {},
   "outputs": [
    {
     "name": "stdout",
     "output_type": "stream",
     "text": [
      "Scaler saved at inst/extdata/model/survive_stack_gbm_scaler.joblib\n",
      "Model saved at inst/extdata/model/survive_stack_gbm_best_model.joblib\n",
      "Results saved at inst/extdata/model/survive_stack_gbm_train_prob.csv\n",
      "Results saved at inst/extdata/model/survive_stack_gbm_validation_prob.csv\n",
      "Results saved at inst/extdata/model/survive_stack_gbm_test_prob.csv\n"
     ]
    }
   ],
   "source": [
    "prefix = 'survive_stack_gbm'\n",
    "model_name = 'GradientBoosting'\n",
    "model_dir = 'model'\n",
    "\n",
    "train_and_save_model(prefix, models_and_params[model_name], model_dir)\n",
    "\n",
    "output_type = 'probability'\n",
    "load_and_predict(prefix, 'train', output_type, model_dir)\n",
    "load_and_predict(prefix, 'validation', output_type, model_dir)\n",
    "load_and_predict(prefix, 'test', output_type, model_dir)"
   ]
  },
  {
   "cell_type": "code",
   "execution_count": 9,
   "id": "290df91a-acbf-4dbc-8dc1-a97a5f4540c8",
   "metadata": {},
   "outputs": [
    {
     "name": "stdout",
     "output_type": "stream",
     "text": [
      "Results saved at inst/extdata/model/survive_stack_gbm_independent_test_prob.csv\n"
     ]
    }
   ],
   "source": [
    "prefix = 'survive_stack_gbm'\n",
    "model_name = 'GradientBoosting'\n",
    "model_dir = 'model'\n",
    "\n",
    "output_type = 'probability'\n",
    "load_and_predict(prefix, 'independent_test', output_type, model_dir)"
   ]
  },
  {
   "cell_type": "code",
   "execution_count": 11,
   "id": "43f19b53-c78d-48a4-a8a8-2013b7e846c5",
   "metadata": {},
   "outputs": [
    {
     "name": "stdout",
     "output_type": "stream",
     "text": [
      "Scaler saved at inst/extdata/model/survive_stack_dnn_scaler.joblib\n",
      "Model saved at inst/extdata/model/survive_stack_dnn_best_model.joblib\n",
      "Results saved at inst/extdata/model/survive_stack_dnn_train_prob.csv\n",
      "Results saved at inst/extdata/model/survive_stack_dnn_validation_prob.csv\n",
      "Results saved at inst/extdata/model/survive_stack_dnn_test_prob.csv\n"
     ]
    }
   ],
   "source": [
    "prefix = 'survive_stack_dnn'\n",
    "model_name = 'DeepNeuralNetwork'\n",
    "model_dir = 'model'\n",
    "\n",
    "train_and_save_model(prefix, models_and_params[model_name], model_dir)\n",
    "\n",
    "output_type = 'probability'\n",
    "load_and_predict(prefix, 'train', output_type, model_dir)\n",
    "load_and_predict(prefix, 'validation', output_type, model_dir)\n",
    "load_and_predict(prefix, 'test', output_type, model_dir)"
   ]
  },
  {
   "cell_type": "code",
   "execution_count": 10,
   "id": "ce0cc9cb-2111-4f7d-a226-f1ca5b5206d8",
   "metadata": {},
   "outputs": [
    {
     "name": "stdout",
     "output_type": "stream",
     "text": [
      "Results saved at inst/extdata/model/survive_stack_dnn_independent_test_prob.csv\n"
     ]
    }
   ],
   "source": [
    "prefix = 'survive_stack_dnn'\n",
    "model_name = 'DeepNeuralNetwork'\n",
    "model_dir = 'model'\n",
    "\n",
    "output_type = 'probability'\n",
    "load_and_predict(prefix, 'independent_test', output_type, model_dir)"
   ]
  },
  {
   "cell_type": "code",
   "execution_count": 7,
   "id": "33e73b3b-da59-4ade-b7b1-38fbb2d388da",
   "metadata": {},
   "outputs": [
    {
     "name": "stderr",
     "output_type": "stream",
     "text": [
      "100%|█| 20551/20551 [07:45<00:00, 44.11it/\n"
     ]
    },
    {
     "name": "stdout",
     "output_type": "stream",
     "text": [
      "Results saved at inst/extdata/model/survive_stack_dnn_train_shap_values.csv\n"
     ]
    }
   ],
   "source": [
    "prefix = 'survive_stack_dnn'\n",
    "model_name = 'DeepNeuralNetwork'\n",
    "model_dir = 'model'\n",
    "\n",
    "compute_shap_values(prefix, 'train', explainers[model_name], model_dir)"
   ]
  },
  {
   "cell_type": "markdown",
   "id": "64f34d50-5409-465f-b53e-2b199b974184",
   "metadata": {},
   "source": [
    "## Severe ROP prediction"
   ]
  },
  {
   "cell_type": "code",
   "execution_count": 12,
   "id": "089f0ef5-6d15-4987-95fd-4aceb38e261f",
   "metadata": {},
   "outputs": [
    {
     "name": "stdout",
     "output_type": "stream",
     "text": [
      "Scaler saved at inst/extdata/model/rop_severe_stack_rr_scaler.joblib\n",
      "Model saved at inst/extdata/model/rop_severe_stack_rr_best_model.joblib\n",
      "Results saved at inst/extdata/model/rop_severe_stack_rr_train_prob.csv\n",
      "Results saved at inst/extdata/model/rop_severe_stack_rr_validation_prob.csv\n",
      "Results saved at inst/extdata/model/rop_severe_stack_rr_test_prob.csv\n"
     ]
    }
   ],
   "source": [
    "prefix = 'rop_severe_stack_rr'\n",
    "model_name = 'LogisticRegression'\n",
    "model_dir = 'model'\n",
    "\n",
    "custom_precision = make_scorer(precision_score, zero_division=0)\n",
    "train_and_save_model(prefix, models_and_params[model_name], model_dir, scoring=custom_precision)\n",
    "\n",
    "output_type = 'probability'\n",
    "load_and_predict(prefix, 'train', output_type, model_dir)\n",
    "load_and_predict(prefix, 'validation', output_type, model_dir)\n",
    "load_and_predict(prefix, 'test', output_type, model_dir)"
   ]
  },
  {
   "cell_type": "code",
   "execution_count": 11,
   "id": "3598c1ec-d318-4b82-b04f-1a25b3663706",
   "metadata": {},
   "outputs": [
    {
     "name": "stdout",
     "output_type": "stream",
     "text": [
      "Results saved at inst/extdata/model/rop_severe_stack_rr_independent_test_prob.csv\n"
     ]
    }
   ],
   "source": [
    "prefix = 'rop_severe_stack_rr'\n",
    "model_name = 'LogisticRegression'\n",
    "model_dir = 'model'\n",
    "\n",
    "output_type = 'probability'\n",
    "load_and_predict(prefix, 'independent_test', output_type, model_dir)"
   ]
  },
  {
   "cell_type": "code",
   "execution_count": 7,
   "id": "ec6b04dc-b96b-42b0-afa0-38c0e9f6997d",
   "metadata": {},
   "outputs": [
    {
     "name": "stdout",
     "output_type": "stream",
     "text": [
      "Results saved at inst/extdata/model/rop_severe_stack_rr_train_shap_values.csv\n"
     ]
    }
   ],
   "source": [
    "prefix = 'rop_severe_stack_rr'\n",
    "model_name = 'LogisticRegression'\n",
    "model_dir = 'model'\n",
    "\n",
    "compute_shap_values(prefix, 'train', explainers[model_name], model_dir)"
   ]
  },
  {
   "cell_type": "code",
   "execution_count": 13,
   "id": "cf1917ab-b3b1-4bc8-9973-81558411ddd8",
   "metadata": {},
   "outputs": [
    {
     "name": "stdout",
     "output_type": "stream",
     "text": [
      "Scaler saved at inst/extdata/model/rop_severe_stack_rf_scaler.joblib\n",
      "Model saved at inst/extdata/model/rop_severe_stack_rf_best_model.joblib\n",
      "Results saved at inst/extdata/model/rop_severe_stack_rf_train_prob.csv\n",
      "Results saved at inst/extdata/model/rop_severe_stack_rf_validation_prob.csv\n",
      "Results saved at inst/extdata/model/rop_severe_stack_rf_test_prob.csv\n"
     ]
    }
   ],
   "source": [
    "prefix = 'rop_severe_stack_rf'\n",
    "model_name = 'RandomForest'\n",
    "model_dir = 'model'\n",
    "\n",
    "custom_precision = make_scorer(precision_score, zero_division=0)\n",
    "train_and_save_model(prefix, models_and_params[model_name], model_dir, scoring=custom_precision)\n",
    "\n",
    "output_type = 'probability'\n",
    "load_and_predict(prefix, 'train', output_type, model_dir)\n",
    "load_and_predict(prefix, 'validation', output_type, model_dir)\n",
    "load_and_predict(prefix, 'test', output_type, model_dir)"
   ]
  },
  {
   "cell_type": "code",
   "execution_count": 12,
   "id": "4361b021-3fce-4ee7-9746-e77f7b904261",
   "metadata": {},
   "outputs": [
    {
     "name": "stdout",
     "output_type": "stream",
     "text": [
      "Results saved at inst/extdata/model/rop_severe_stack_rf_independent_test_prob.csv\n"
     ]
    }
   ],
   "source": [
    "prefix = 'rop_severe_stack_rf'\n",
    "model_name = 'RandomForest'\n",
    "model_dir = 'model'\n",
    "\n",
    "output_type = 'probability'\n",
    "load_and_predict(prefix, 'independent_test', output_type, model_dir)"
   ]
  },
  {
   "cell_type": "code",
   "execution_count": 14,
   "id": "34066e3c-783f-48c1-95fd-09e8fcf3d484",
   "metadata": {},
   "outputs": [
    {
     "name": "stdout",
     "output_type": "stream",
     "text": [
      "Scaler saved at inst/extdata/model/rop_severe_stack_gbm_scaler.joblib\n",
      "Model saved at inst/extdata/model/rop_severe_stack_gbm_best_model.joblib\n",
      "Results saved at inst/extdata/model/rop_severe_stack_gbm_train_prob.csv\n",
      "Results saved at inst/extdata/model/rop_severe_stack_gbm_validation_prob.csv\n",
      "Results saved at inst/extdata/model/rop_severe_stack_gbm_test_prob.csv\n"
     ]
    }
   ],
   "source": [
    "prefix = 'rop_severe_stack_gbm'\n",
    "model_name = 'GradientBoosting'\n",
    "model_dir = 'model'\n",
    "\n",
    "custom_precision = make_scorer(precision_score, zero_division=0)\n",
    "train_and_save_model(prefix, models_and_params[model_name], model_dir, scoring=custom_precision)\n",
    "\n",
    "output_type = 'probability'\n",
    "load_and_predict(prefix, 'train', output_type, model_dir)\n",
    "load_and_predict(prefix, 'validation', output_type, model_dir)\n",
    "load_and_predict(prefix, 'test', output_type, model_dir)"
   ]
  },
  {
   "cell_type": "code",
   "execution_count": 13,
   "id": "75a9f0a0-5d8e-4097-ad3c-268a9e076420",
   "metadata": {},
   "outputs": [
    {
     "name": "stdout",
     "output_type": "stream",
     "text": [
      "Results saved at inst/extdata/model/rop_severe_stack_gbm_independent_test_prob.csv\n"
     ]
    }
   ],
   "source": [
    "prefix = 'rop_severe_stack_gbm'\n",
    "model_name = 'GradientBoosting'\n",
    "model_dir = 'model'\n",
    "\n",
    "output_type = 'probability'\n",
    "load_and_predict(prefix, 'independent_test', output_type, model_dir)"
   ]
  },
  {
   "cell_type": "code",
   "execution_count": 15,
   "id": "32be7750-4642-455e-97a0-99299a925596",
   "metadata": {},
   "outputs": [
    {
     "name": "stdout",
     "output_type": "stream",
     "text": [
      "Scaler saved at inst/extdata/model/rop_severe_stack_dnn_scaler.joblib\n",
      "Model saved at inst/extdata/model/rop_severe_stack_dnn_best_model.joblib\n",
      "Results saved at inst/extdata/model/rop_severe_stack_dnn_train_prob.csv\n",
      "Results saved at inst/extdata/model/rop_severe_stack_dnn_validation_prob.csv\n",
      "Results saved at inst/extdata/model/rop_severe_stack_dnn_test_prob.csv\n"
     ]
    }
   ],
   "source": [
    "prefix = 'rop_severe_stack_dnn'\n",
    "model_name = 'DeepNeuralNetwork'\n",
    "model_dir = 'model'\n",
    "\n",
    "custom_precision = make_scorer(precision_score, zero_division=0)\n",
    "train_and_save_model(prefix, models_and_params[model_name], model_dir, scoring=custom_precision)\n",
    "\n",
    "output_type = 'probability'\n",
    "load_and_predict(prefix, 'train', output_type, model_dir)\n",
    "load_and_predict(prefix, 'validation', output_type, model_dir)\n",
    "load_and_predict(prefix, 'test', output_type, model_dir)"
   ]
  },
  {
   "cell_type": "code",
   "execution_count": 14,
   "id": "551e8d47-3649-48f8-84a1-77af74236b97",
   "metadata": {},
   "outputs": [
    {
     "name": "stdout",
     "output_type": "stream",
     "text": [
      "Results saved at inst/extdata/model/rop_severe_stack_dnn_independent_test_prob.csv\n"
     ]
    }
   ],
   "source": [
    "prefix = 'rop_severe_stack_dnn'\n",
    "model_name = 'DeepNeuralNetwork'\n",
    "model_dir = 'model'\n",
    "\n",
    "output_type = 'probability'\n",
    "load_and_predict(prefix, 'independent_test', output_type, model_dir)"
   ]
  },
  {
   "cell_type": "markdown",
   "id": "9816e4cf-8861-4831-bcf0-dda421e91464",
   "metadata": {},
   "source": [
    "## BPD prediction"
   ]
  },
  {
   "cell_type": "code",
   "execution_count": 17,
   "id": "d68ee9b8-ee7e-4ce0-a8ad-4b21ae29edf6",
   "metadata": {},
   "outputs": [
    {
     "name": "stdout",
     "output_type": "stream",
     "text": [
      "Scaler saved at inst/extdata/model/bpd_stack_rr_scaler.joblib\n",
      "Model saved at inst/extdata/model/bpd_stack_rr_best_model.joblib\n",
      "Results saved at inst/extdata/model/bpd_stack_rr_train_prob.csv\n",
      "Results saved at inst/extdata/model/bpd_stack_rr_validation_prob.csv\n",
      "Results saved at inst/extdata/model/bpd_stack_rr_test_prob.csv\n"
     ]
    }
   ],
   "source": [
    "prefix = 'bpd_stack_rr'\n",
    "model_name = 'LogisticRegression'\n",
    "model_dir = 'model'\n",
    "\n",
    "train_and_save_model(prefix, models_and_params[model_name], model_dir)\n",
    "\n",
    "output_type = 'probability'\n",
    "load_and_predict(prefix, 'train', output_type, model_dir)\n",
    "load_and_predict(prefix, 'validation', output_type, model_dir)\n",
    "load_and_predict(prefix, 'test', output_type, model_dir)"
   ]
  },
  {
   "cell_type": "code",
   "execution_count": 15,
   "id": "32e4f51e-3120-43cb-bcf9-d5c89cf2d382",
   "metadata": {},
   "outputs": [
    {
     "name": "stdout",
     "output_type": "stream",
     "text": [
      "Results saved at inst/extdata/model/bpd_stack_rr_independent_test_prob.csv\n"
     ]
    }
   ],
   "source": [
    "prefix = 'bpd_stack_rr'\n",
    "model_name = 'LogisticRegression'\n",
    "model_dir = 'model'\n",
    "\n",
    "output_type = 'probability'\n",
    "load_and_predict(prefix, 'independent_test', output_type, model_dir)"
   ]
  },
  {
   "cell_type": "code",
   "execution_count": 18,
   "id": "6979c8b5-d87e-4f63-bf3f-f1d0c46672f2",
   "metadata": {},
   "outputs": [
    {
     "name": "stdout",
     "output_type": "stream",
     "text": [
      "Scaler saved at inst/extdata/model/bpd_stack_rf_scaler.joblib\n",
      "Model saved at inst/extdata/model/bpd_stack_rf_best_model.joblib\n",
      "Results saved at inst/extdata/model/bpd_stack_rf_train_prob.csv\n",
      "Results saved at inst/extdata/model/bpd_stack_rf_validation_prob.csv\n",
      "Results saved at inst/extdata/model/bpd_stack_rf_test_prob.csv\n"
     ]
    }
   ],
   "source": [
    "prefix = 'bpd_stack_rf'\n",
    "model_name = 'RandomForest'\n",
    "model_dir = 'model'\n",
    "\n",
    "train_and_save_model(prefix, models_and_params[model_name], model_dir)\n",
    "\n",
    "output_type = 'probability'\n",
    "load_and_predict(prefix, 'train', output_type, model_dir)\n",
    "load_and_predict(prefix, 'validation', output_type, model_dir)\n",
    "load_and_predict(prefix, 'test', output_type, model_dir)"
   ]
  },
  {
   "cell_type": "code",
   "execution_count": 16,
   "id": "bee0cff6-b815-4ac3-9429-1e23494b992c",
   "metadata": {},
   "outputs": [
    {
     "name": "stdout",
     "output_type": "stream",
     "text": [
      "Results saved at inst/extdata/model/bpd_stack_rf_independent_test_prob.csv\n"
     ]
    }
   ],
   "source": [
    "prefix = 'bpd_stack_rf'\n",
    "model_name = 'RandomForest'\n",
    "model_dir = 'model'\n",
    "\n",
    "output_type = 'probability'\n",
    "load_and_predict(prefix, 'independent_test', output_type, model_dir)"
   ]
  },
  {
   "cell_type": "code",
   "execution_count": 9,
   "id": "5b3df552-7a30-4ad1-896d-286e9683025a",
   "metadata": {},
   "outputs": [
    {
     "name": "stdout",
     "output_type": "stream",
     "text": [
      "Results saved at inst/extdata/model/bpd_stack_rf_train_shap_values.csv\n"
     ]
    }
   ],
   "source": [
    "prefix = 'bpd_stack_rf'\n",
    "model_name = 'RandomForest'\n",
    "model_dir = 'model'\n",
    "\n",
    "compute_shap_values(prefix, 'train', explainers[model_name], model_dir)"
   ]
  },
  {
   "cell_type": "code",
   "execution_count": 19,
   "id": "c9482c2c-4a5f-44c3-97f9-92304b072221",
   "metadata": {},
   "outputs": [
    {
     "name": "stdout",
     "output_type": "stream",
     "text": [
      "Scaler saved at inst/extdata/model/bpd_stack_gbm_scaler.joblib\n",
      "Model saved at inst/extdata/model/bpd_stack_gbm_best_model.joblib\n",
      "Results saved at inst/extdata/model/bpd_stack_gbm_train_prob.csv\n",
      "Results saved at inst/extdata/model/bpd_stack_gbm_validation_prob.csv\n",
      "Results saved at inst/extdata/model/bpd_stack_gbm_test_prob.csv\n"
     ]
    }
   ],
   "source": [
    "prefix = 'bpd_stack_gbm'\n",
    "model_name = 'GradientBoosting'\n",
    "model_dir = 'model'\n",
    "\n",
    "train_and_save_model(prefix, models_and_params[model_name], model_dir)\n",
    "\n",
    "output_type = 'probability'\n",
    "load_and_predict(prefix, 'train', output_type, model_dir)\n",
    "load_and_predict(prefix, 'validation', output_type, model_dir)\n",
    "load_and_predict(prefix, 'test', output_type, model_dir)"
   ]
  },
  {
   "cell_type": "code",
   "execution_count": 17,
   "id": "6589c156-f6ac-45ae-8972-ad9dfea916aa",
   "metadata": {},
   "outputs": [
    {
     "name": "stdout",
     "output_type": "stream",
     "text": [
      "Results saved at inst/extdata/model/bpd_stack_gbm_independent_test_prob.csv\n"
     ]
    }
   ],
   "source": [
    "prefix = 'bpd_stack_gbm'\n",
    "model_name = 'GradientBoosting'\n",
    "model_dir = 'model'\n",
    "\n",
    "output_type = 'probability'\n",
    "load_and_predict(prefix, 'independent_test', output_type, model_dir)"
   ]
  },
  {
   "cell_type": "code",
   "execution_count": 20,
   "id": "9801d44b-c04f-402a-bd5b-e505f5fa5522",
   "metadata": {
    "scrolled": true
   },
   "outputs": [
    {
     "name": "stdout",
     "output_type": "stream",
     "text": [
      "Scaler saved at inst/extdata/model/bpd_stack_dnn_scaler.joblib\n"
     ]
    },
    {
     "name": "stderr",
     "output_type": "stream",
     "text": [
      "/opt/conda/lib/python3.12/site-packages/sklearn/neural_network/_multilayer_perceptron.py:690: ConvergenceWarning: Stochastic Optimizer: Maximum iterations (1000) reached and the optimization hasn't converged yet.\n",
      "  warnings.warn(\n",
      "/opt/conda/lib/python3.12/site-packages/sklearn/neural_network/_multilayer_perceptron.py:690: ConvergenceWarning: Stochastic Optimizer: Maximum iterations (1000) reached and the optimization hasn't converged yet.\n",
      "  warnings.warn(\n",
      "/opt/conda/lib/python3.12/site-packages/sklearn/neural_network/_multilayer_perceptron.py:690: ConvergenceWarning: Stochastic Optimizer: Maximum iterations (1000) reached and the optimization hasn't converged yet.\n",
      "  warnings.warn(\n",
      "/opt/conda/lib/python3.12/site-packages/sklearn/neural_network/_multilayer_perceptron.py:690: ConvergenceWarning: Stochastic Optimizer: Maximum iterations (1000) reached and the optimization hasn't converged yet.\n",
      "  warnings.warn(\n",
      "/opt/conda/lib/python3.12/site-packages/sklearn/neural_network/_multilayer_perceptron.py:690: ConvergenceWarning: Stochastic Optimizer: Maximum iterations (1000) reached and the optimization hasn't converged yet.\n",
      "  warnings.warn(\n",
      "/opt/conda/lib/python3.12/site-packages/sklearn/neural_network/_multilayer_perceptron.py:690: ConvergenceWarning: Stochastic Optimizer: Maximum iterations (1000) reached and the optimization hasn't converged yet.\n",
      "  warnings.warn(\n"
     ]
    },
    {
     "name": "stdout",
     "output_type": "stream",
     "text": [
      "Model saved at inst/extdata/model/bpd_stack_dnn_best_model.joblib\n",
      "Results saved at inst/extdata/model/bpd_stack_dnn_train_prob.csv\n",
      "Results saved at inst/extdata/model/bpd_stack_dnn_validation_prob.csv\n",
      "Results saved at inst/extdata/model/bpd_stack_dnn_test_prob.csv\n"
     ]
    }
   ],
   "source": [
    "prefix = 'bpd_stack_dnn'\n",
    "model_name = 'DeepNeuralNetwork'\n",
    "model_dir = 'model'\n",
    "\n",
    "custom_precision = make_scorer(precision_score, zero_division=0)\n",
    "train_and_save_model(prefix, models_and_params[model_name], model_dir, scoring=custom_precision)\n",
    "\n",
    "output_type = 'probability'\n",
    "load_and_predict(prefix, 'train', output_type, model_dir)\n",
    "load_and_predict(prefix, 'validation', output_type, model_dir)\n",
    "load_and_predict(prefix, 'test', output_type, model_dir)"
   ]
  },
  {
   "cell_type": "code",
   "execution_count": 18,
   "id": "5b60f617-0b7c-4033-a383-514ea1b12977",
   "metadata": {
    "scrolled": true
   },
   "outputs": [
    {
     "name": "stdout",
     "output_type": "stream",
     "text": [
      "Results saved at inst/extdata/model/bpd_stack_dnn_independent_test_prob.csv\n"
     ]
    }
   ],
   "source": [
    "prefix = 'bpd_stack_dnn'\n",
    "model_name = 'DeepNeuralNetwork'\n",
    "model_dir = 'model'\n",
    "\n",
    "output_type = 'probability'\n",
    "load_and_predict(prefix, 'independent_test', output_type, model_dir)"
   ]
  },
  {
   "cell_type": "markdown",
   "id": "3fcbdcea-fb17-496c-9b4b-0e20a934e5ce",
   "metadata": {},
   "source": [
    "## Moderate/severe BPD prediction"
   ]
  },
  {
   "cell_type": "code",
   "execution_count": 22,
   "id": "68284a6f-fcf0-4ae2-bb73-42a5014e5224",
   "metadata": {},
   "outputs": [
    {
     "name": "stdout",
     "output_type": "stream",
     "text": [
      "Scaler saved at inst/extdata/model/bpd_moderate_severe_stack_rr_scaler.joblib\n",
      "Model saved at inst/extdata/model/bpd_moderate_severe_stack_rr_best_model.joblib\n",
      "Results saved at inst/extdata/model/bpd_moderate_severe_stack_rr_train_prob.csv\n",
      "Results saved at inst/extdata/model/bpd_moderate_severe_stack_rr_validation_prob.csv\n",
      "Results saved at inst/extdata/model/bpd_moderate_severe_stack_rr_test_prob.csv\n"
     ]
    }
   ],
   "source": [
    "prefix = 'bpd_moderate_severe_stack_rr'\n",
    "model_name = 'LogisticRegression'\n",
    "model_dir = 'model'\n",
    "\n",
    "train_and_save_model(prefix, models_and_params[model_name], model_dir)\n",
    "\n",
    "output_type = 'probability'\n",
    "load_and_predict(prefix, 'train', output_type, model_dir)\n",
    "load_and_predict(prefix, 'validation', output_type, model_dir)\n",
    "load_and_predict(prefix, 'test', output_type, model_dir)"
   ]
  },
  {
   "cell_type": "code",
   "execution_count": 19,
   "id": "97d6b254-7529-48f4-a032-b71e63d9a707",
   "metadata": {},
   "outputs": [
    {
     "name": "stdout",
     "output_type": "stream",
     "text": [
      "Results saved at inst/extdata/model/bpd_moderate_severe_stack_rr_independent_test_prob.csv\n"
     ]
    }
   ],
   "source": [
    "prefix = 'bpd_moderate_severe_stack_rr'\n",
    "model_name = 'LogisticRegression'\n",
    "model_dir = 'model'\n",
    "\n",
    "output_type = 'probability'\n",
    "load_and_predict(prefix, 'independent_test', output_type, model_dir)"
   ]
  },
  {
   "cell_type": "code",
   "execution_count": 23,
   "id": "cd7616e1-d2ac-4df5-b391-73a5db37cb73",
   "metadata": {},
   "outputs": [
    {
     "name": "stdout",
     "output_type": "stream",
     "text": [
      "Scaler saved at inst/extdata/model/bpd_moderate_severe_stack_rf_scaler.joblib\n",
      "Model saved at inst/extdata/model/bpd_moderate_severe_stack_rf_best_model.joblib\n",
      "Results saved at inst/extdata/model/bpd_moderate_severe_stack_rf_train_prob.csv\n",
      "Results saved at inst/extdata/model/bpd_moderate_severe_stack_rf_validation_prob.csv\n",
      "Results saved at inst/extdata/model/bpd_moderate_severe_stack_rf_test_prob.csv\n"
     ]
    }
   ],
   "source": [
    "prefix = 'bpd_moderate_severe_stack_rf'\n",
    "model_name = 'RandomForest'\n",
    "model_dir = 'model'\n",
    "\n",
    "train_and_save_model(prefix, models_and_params[model_name], model_dir)\n",
    "\n",
    "output_type = 'probability'\n",
    "load_and_predict(prefix, 'train', output_type, model_dir)\n",
    "load_and_predict(prefix, 'validation', output_type, model_dir)\n",
    "load_and_predict(prefix, 'test', output_type, model_dir)"
   ]
  },
  {
   "cell_type": "code",
   "execution_count": 20,
   "id": "1b2c00b5-07e4-43c6-a598-67bb19f4b26c",
   "metadata": {},
   "outputs": [
    {
     "name": "stdout",
     "output_type": "stream",
     "text": [
      "Results saved at inst/extdata/model/bpd_moderate_severe_stack_rf_independent_test_prob.csv\n"
     ]
    }
   ],
   "source": [
    "prefix = 'bpd_moderate_severe_stack_rf'\n",
    "model_name = 'RandomForest'\n",
    "model_dir = 'model'\n",
    "\n",
    "output_type = 'probability'\n",
    "load_and_predict(prefix, 'independent_test', output_type, model_dir)"
   ]
  },
  {
   "cell_type": "code",
   "execution_count": 10,
   "id": "e50c0473-9217-43e5-ae42-394c0a77880b",
   "metadata": {},
   "outputs": [
    {
     "name": "stdout",
     "output_type": "stream",
     "text": [
      "Results saved at inst/extdata/model/bpd_moderate_severe_stack_rf_train_shap_values.csv\n"
     ]
    }
   ],
   "source": [
    "prefix = 'bpd_moderate_severe_stack_rf'\n",
    "model_name = 'RandomForest'\n",
    "model_dir = 'model'\n",
    "\n",
    "compute_shap_values(prefix, 'train', explainers[model_name], model_dir)"
   ]
  },
  {
   "cell_type": "code",
   "execution_count": 24,
   "id": "7be0ab32-ff4d-4148-8ead-d3542865a018",
   "metadata": {},
   "outputs": [
    {
     "name": "stdout",
     "output_type": "stream",
     "text": [
      "Scaler saved at inst/extdata/model/bpd_moderate_severe_stack_gbm_scaler.joblib\n",
      "Model saved at inst/extdata/model/bpd_moderate_severe_stack_gbm_best_model.joblib\n",
      "Results saved at inst/extdata/model/bpd_moderate_severe_stack_gbm_train_prob.csv\n",
      "Results saved at inst/extdata/model/bpd_moderate_severe_stack_gbm_validation_prob.csv\n",
      "Results saved at inst/extdata/model/bpd_moderate_severe_stack_gbm_test_prob.csv\n"
     ]
    }
   ],
   "source": [
    "prefix = 'bpd_moderate_severe_stack_gbm'\n",
    "model_name = 'GradientBoosting'\n",
    "model_dir = 'model'\n",
    "\n",
    "train_and_save_model(prefix, models_and_params[model_name], model_dir)\n",
    "\n",
    "output_type = 'probability'\n",
    "load_and_predict(prefix, 'train', output_type, model_dir)\n",
    "load_and_predict(prefix, 'validation', output_type, model_dir)\n",
    "load_and_predict(prefix, 'test', output_type, model_dir)"
   ]
  },
  {
   "cell_type": "code",
   "execution_count": 21,
   "id": "6ee58e28-a04e-4428-a6ac-001da121b530",
   "metadata": {},
   "outputs": [
    {
     "name": "stdout",
     "output_type": "stream",
     "text": [
      "Results saved at inst/extdata/model/bpd_moderate_severe_stack_gbm_independent_test_prob.csv\n"
     ]
    }
   ],
   "source": [
    "prefix = 'bpd_moderate_severe_stack_gbm'\n",
    "model_name = 'GradientBoosting'\n",
    "model_dir = 'model'\n",
    "\n",
    "output_type = 'probability'\n",
    "load_and_predict(prefix, 'independent_test', output_type, model_dir)"
   ]
  },
  {
   "cell_type": "code",
   "execution_count": 25,
   "id": "7e948fb0-6f3e-4322-ac4f-b944e352e094",
   "metadata": {},
   "outputs": [
    {
     "name": "stdout",
     "output_type": "stream",
     "text": [
      "Scaler saved at inst/extdata/model/bpd_moderate_severe_stack_dnn_scaler.joblib\n"
     ]
    },
    {
     "name": "stderr",
     "output_type": "stream",
     "text": [
      "/opt/conda/lib/python3.12/site-packages/sklearn/neural_network/_multilayer_perceptron.py:690: ConvergenceWarning: Stochastic Optimizer: Maximum iterations (1000) reached and the optimization hasn't converged yet.\n",
      "  warnings.warn(\n",
      "/opt/conda/lib/python3.12/site-packages/sklearn/neural_network/_multilayer_perceptron.py:690: ConvergenceWarning: Stochastic Optimizer: Maximum iterations (1000) reached and the optimization hasn't converged yet.\n",
      "  warnings.warn(\n"
     ]
    },
    {
     "name": "stdout",
     "output_type": "stream",
     "text": [
      "Model saved at inst/extdata/model/bpd_moderate_severe_stack_dnn_best_model.joblib\n",
      "Results saved at inst/extdata/model/bpd_moderate_severe_stack_dnn_train_prob.csv\n",
      "Results saved at inst/extdata/model/bpd_moderate_severe_stack_dnn_validation_prob.csv\n",
      "Results saved at inst/extdata/model/bpd_moderate_severe_stack_dnn_test_prob.csv\n"
     ]
    }
   ],
   "source": [
    "prefix = 'bpd_moderate_severe_stack_dnn'\n",
    "model_name = 'DeepNeuralNetwork'\n",
    "model_dir = 'model'\n",
    "\n",
    "custom_precision = make_scorer(precision_score, zero_division=0)\n",
    "train_and_save_model(prefix, models_and_params[model_name], model_dir, scoring=custom_precision)\n",
    "\n",
    "output_type = 'probability'\n",
    "load_and_predict(prefix, 'train', output_type, model_dir)\n",
    "load_and_predict(prefix, 'validation', output_type, model_dir)\n",
    "load_and_predict(prefix, 'test', output_type, model_dir)"
   ]
  },
  {
   "cell_type": "code",
   "execution_count": 22,
   "id": "3a44a453-8bdd-48e8-8271-47adbdaafee6",
   "metadata": {},
   "outputs": [
    {
     "name": "stdout",
     "output_type": "stream",
     "text": [
      "Results saved at inst/extdata/model/bpd_moderate_severe_stack_dnn_independent_test_prob.csv\n"
     ]
    }
   ],
   "source": [
    "prefix = 'bpd_moderate_severe_stack_dnn'\n",
    "model_name = 'DeepNeuralNetwork'\n",
    "model_dir = 'model'\n",
    "\n",
    "output_type = 'probability'\n",
    "load_and_predict(prefix, 'independent_test', output_type, model_dir)"
   ]
  },
  {
   "cell_type": "markdown",
   "id": "b4f0bada-6afe-4434-86fb-bb89dd12feae",
   "metadata": {},
   "source": [
    "## EUGR-HC prediction"
   ]
  },
  {
   "cell_type": "code",
   "execution_count": 27,
   "id": "dce97493-7dc9-4426-b542-485c1604d24f",
   "metadata": {},
   "outputs": [
    {
     "name": "stdout",
     "output_type": "stream",
     "text": [
      "Scaler saved at inst/extdata/model/eugr_hc_baseline2_rr_scaler.joblib\n",
      "Model saved at inst/extdata/model/eugr_hc_baseline2_rr_best_model.joblib\n",
      "Results saved at inst/extdata/model/eugr_hc_baseline2_rr_train_prob.csv\n",
      "Results saved at inst/extdata/model/eugr_hc_baseline2_rr_validation_prob.csv\n",
      "Results saved at inst/extdata/model/eugr_hc_baseline2_rr_test_prob.csv\n"
     ]
    }
   ],
   "source": [
    "prefix = 'eugr_hc_baseline2_rr'\n",
    "model_name = 'LogisticRegression'\n",
    "model_dir = 'model'\n",
    "\n",
    "custom_precision = make_scorer(precision_score, zero_division=0)\n",
    "train_and_save_model(prefix, models_and_params[model_name], model_dir, scoring=custom_precision)\n",
    "\n",
    "output_type = 'probability'\n",
    "load_and_predict(prefix, 'train', output_type, model_dir)\n",
    "load_and_predict(prefix, 'validation', output_type, model_dir)\n",
    "load_and_predict(prefix, 'test', output_type, model_dir)"
   ]
  },
  {
   "cell_type": "code",
   "execution_count": 23,
   "id": "e89928ed-db20-4461-99ac-a5372ab4cb1d",
   "metadata": {},
   "outputs": [
    {
     "name": "stdout",
     "output_type": "stream",
     "text": [
      "Results saved at inst/extdata/model/eugr_hc_baseline2_rr_independent_test_prob.csv\n"
     ]
    }
   ],
   "source": [
    "prefix = 'eugr_hc_baseline2_rr'\n",
    "model_name = 'LogisticRegression'\n",
    "model_dir = 'model'\n",
    "\n",
    "output_type = 'probability'\n",
    "load_and_predict(prefix, 'independent_test', output_type, model_dir)"
   ]
  },
  {
   "cell_type": "code",
   "execution_count": 8,
   "id": "4ae7c008-977d-450f-bab0-6ee32deee5f3",
   "metadata": {},
   "outputs": [
    {
     "name": "stdout",
     "output_type": "stream",
     "text": [
      "Results saved at inst/extdata/model/eugr_hc_baseline2_rr_train_shap_values.csv\n"
     ]
    }
   ],
   "source": [
    "prefix = 'eugr_hc_baseline2_rr'\n",
    "model_name = 'LogisticRegression'\n",
    "model_dir = 'model'\n",
    "\n",
    "compute_shap_values(prefix, 'train', explainers[model_name], model_dir)"
   ]
  },
  {
   "cell_type": "code",
   "execution_count": 29,
   "id": "321b2318-4ad2-4801-9518-f26f4a4265f3",
   "metadata": {},
   "outputs": [
    {
     "name": "stdout",
     "output_type": "stream",
     "text": [
      "Scaler saved at inst/extdata/model/eugr_hc_stack1_rr_scaler.joblib\n",
      "Model saved at inst/extdata/model/eugr_hc_stack1_rr_best_model.joblib\n",
      "Results saved at inst/extdata/model/eugr_hc_stack1_rr_train_prob.csv\n",
      "Results saved at inst/extdata/model/eugr_hc_stack1_rr_validation_prob.csv\n",
      "Results saved at inst/extdata/model/eugr_hc_stack1_rr_test_prob.csv\n"
     ]
    }
   ],
   "source": [
    "prefix = 'eugr_hc_stack1_rr'\n",
    "model_name = 'LogisticRegression'\n",
    "model_dir = 'model'\n",
    "\n",
    "train_and_save_model(prefix, models_and_params[model_name], model_dir)\n",
    "\n",
    "output_type = 'probability'\n",
    "load_and_predict(prefix, 'train', output_type, model_dir)\n",
    "load_and_predict(prefix, 'validation', output_type, model_dir)\n",
    "load_and_predict(prefix, 'test', output_type, model_dir)"
   ]
  },
  {
   "cell_type": "code",
   "execution_count": 24,
   "id": "919eb3ec-969a-4857-81ca-d8cae43d5d22",
   "metadata": {},
   "outputs": [
    {
     "name": "stdout",
     "output_type": "stream",
     "text": [
      "Results saved at inst/extdata/model/eugr_hc_stack1_rr_independent_test_prob.csv\n"
     ]
    }
   ],
   "source": [
    "prefix = 'eugr_hc_stack1_rr'\n",
    "model_name = 'LogisticRegression'\n",
    "model_dir = 'model'\n",
    "\n",
    "output_type = 'probability'\n",
    "load_and_predict(prefix, 'independent_test', output_type, model_dir)"
   ]
  },
  {
   "cell_type": "code",
   "execution_count": 30,
   "id": "e9b3c912-b353-487f-8a67-cefd3f6c7c56",
   "metadata": {},
   "outputs": [
    {
     "name": "stdout",
     "output_type": "stream",
     "text": [
      "Scaler saved at inst/extdata/model/eugr_hc_stack1_rf_scaler.joblib\n",
      "Model saved at inst/extdata/model/eugr_hc_stack1_rf_best_model.joblib\n",
      "Results saved at inst/extdata/model/eugr_hc_stack1_rf_train_prob.csv\n",
      "Results saved at inst/extdata/model/eugr_hc_stack1_rf_validation_prob.csv\n",
      "Results saved at inst/extdata/model/eugr_hc_stack1_rf_test_prob.csv\n"
     ]
    }
   ],
   "source": [
    "prefix = 'eugr_hc_stack1_rf'\n",
    "model_name = 'RandomForest'\n",
    "model_dir = 'model'\n",
    "\n",
    "train_and_save_model(prefix, models_and_params[model_name], model_dir)\n",
    "\n",
    "output_type = 'probability'\n",
    "load_and_predict(prefix, 'train', output_type, model_dir)\n",
    "load_and_predict(prefix, 'validation', output_type, model_dir)\n",
    "load_and_predict(prefix, 'test', output_type, model_dir)"
   ]
  },
  {
   "cell_type": "code",
   "execution_count": 25,
   "id": "88802730-714e-45d5-af4b-e43bfbff8a76",
   "metadata": {},
   "outputs": [
    {
     "name": "stdout",
     "output_type": "stream",
     "text": [
      "Results saved at inst/extdata/model/eugr_hc_stack1_rf_independent_test_prob.csv\n"
     ]
    }
   ],
   "source": [
    "prefix = 'eugr_hc_stack1_rf'\n",
    "model_name = 'RandomForest'\n",
    "model_dir = 'model'\n",
    "\n",
    "output_type = 'probability'\n",
    "load_and_predict(prefix, 'independent_test', output_type, model_dir)"
   ]
  },
  {
   "cell_type": "code",
   "execution_count": 31,
   "id": "c84b7f27-b76b-4c6c-ab96-dbeacd599c12",
   "metadata": {},
   "outputs": [
    {
     "name": "stdout",
     "output_type": "stream",
     "text": [
      "Scaler saved at inst/extdata/model/eugr_hc_stack1_gbm_scaler.joblib\n",
      "Model saved at inst/extdata/model/eugr_hc_stack1_gbm_best_model.joblib\n",
      "Results saved at inst/extdata/model/eugr_hc_stack1_gbm_train_prob.csv\n",
      "Results saved at inst/extdata/model/eugr_hc_stack1_gbm_validation_prob.csv\n",
      "Results saved at inst/extdata/model/eugr_hc_stack1_gbm_test_prob.csv\n"
     ]
    }
   ],
   "source": [
    "prefix = 'eugr_hc_stack1_gbm'\n",
    "model_name = 'GradientBoosting'\n",
    "model_dir = 'model'\n",
    "\n",
    "custom_precision = make_scorer(precision_score, zero_division=0)\n",
    "train_and_save_model(prefix, models_and_params[model_name], model_dir, scoring=custom_precision)\n",
    "\n",
    "output_type = 'probability'\n",
    "load_and_predict(prefix, 'train', output_type, model_dir)\n",
    "load_and_predict(prefix, 'validation', output_type, model_dir)\n",
    "load_and_predict(prefix, 'test', output_type, model_dir)"
   ]
  },
  {
   "cell_type": "code",
   "execution_count": 26,
   "id": "9e246b08-b63f-4802-863a-6652f95a5ddf",
   "metadata": {},
   "outputs": [
    {
     "name": "stdout",
     "output_type": "stream",
     "text": [
      "Results saved at inst/extdata/model/eugr_hc_stack1_gbm_independent_test_prob.csv\n"
     ]
    }
   ],
   "source": [
    "prefix = 'eugr_hc_stack1_gbm'\n",
    "model_name = 'GradientBoosting'\n",
    "model_dir = 'model'\n",
    "\n",
    "output_type = 'probability'\n",
    "load_and_predict(prefix, 'independent_test', output_type, model_dir)"
   ]
  },
  {
   "cell_type": "code",
   "execution_count": 32,
   "id": "e91c3c67-56bb-4381-91dc-0d7d8d98d277",
   "metadata": {},
   "outputs": [
    {
     "name": "stdout",
     "output_type": "stream",
     "text": [
      "Scaler saved at inst/extdata/model/eugr_hc_stack1_dnn_scaler.joblib\n",
      "Model saved at inst/extdata/model/eugr_hc_stack1_dnn_best_model.joblib\n",
      "Results saved at inst/extdata/model/eugr_hc_stack1_dnn_train_prob.csv\n",
      "Results saved at inst/extdata/model/eugr_hc_stack1_dnn_validation_prob.csv\n",
      "Results saved at inst/extdata/model/eugr_hc_stack1_dnn_test_prob.csv\n"
     ]
    }
   ],
   "source": [
    "prefix = 'eugr_hc_stack1_dnn'\n",
    "model_name = 'DeepNeuralNetwork'\n",
    "model_dir = 'model'\n",
    "\n",
    "custom_precision = make_scorer(precision_score, zero_division=0)\n",
    "train_and_save_model(prefix, models_and_params[model_name], model_dir, scoring=custom_precision)\n",
    "\n",
    "output_type = 'probability'\n",
    "load_and_predict(prefix, 'train', output_type, model_dir)\n",
    "load_and_predict(prefix, 'validation', output_type, model_dir)\n",
    "load_and_predict(prefix, 'test', output_type, model_dir)"
   ]
  },
  {
   "cell_type": "code",
   "execution_count": 27,
   "id": "21803666-0dd2-4857-a3f5-fa3fa142899e",
   "metadata": {},
   "outputs": [
    {
     "name": "stdout",
     "output_type": "stream",
     "text": [
      "Results saved at inst/extdata/model/eugr_hc_stack1_dnn_independent_test_prob.csv\n"
     ]
    }
   ],
   "source": [
    "prefix = 'eugr_hc_stack1_dnn'\n",
    "model_name = 'DeepNeuralNetwork'\n",
    "model_dir = 'model'\n",
    "\n",
    "output_type = 'probability'\n",
    "load_and_predict(prefix, 'independent_test', output_type, model_dir)"
   ]
  },
  {
   "cell_type": "code",
   "execution_count": 12,
   "id": "859f6066-b5c2-4773-a118-d83beb5ad094",
   "metadata": {},
   "outputs": [
    {
     "name": "stderr",
     "output_type": "stream",
     "text": [
      "100%|█| 19950/19950 [08:05<00:00, 41.08it/\n"
     ]
    },
    {
     "name": "stdout",
     "output_type": "stream",
     "text": [
      "Results saved at inst/extdata/model/eugr_hc_stack1_dnn_train_shap_values.csv\n"
     ]
    }
   ],
   "source": [
    "prefix = 'eugr_hc_stack1_dnn'\n",
    "model_name = 'DeepNeuralNetwork'\n",
    "model_dir = 'model'\n",
    "\n",
    "compute_shap_values(prefix, 'train', explainers[model_name], model_dir)"
   ]
  },
  {
   "cell_type": "code",
   "execution_count": 34,
   "id": "d2d26406-a833-45cf-b9d7-bce67d404fa5",
   "metadata": {},
   "outputs": [
    {
     "name": "stdout",
     "output_type": "stream",
     "text": [
      "Scaler saved at inst/extdata/model/eugr_hc_stack_rr_scaler.joblib\n",
      "Model saved at inst/extdata/model/eugr_hc_stack_rr_best_model.joblib\n",
      "Results saved at inst/extdata/model/eugr_hc_stack_rr_train_prob.csv\n",
      "Results saved at inst/extdata/model/eugr_hc_stack_rr_validation_prob.csv\n",
      "Results saved at inst/extdata/model/eugr_hc_stack_rr_test_prob.csv\n"
     ]
    }
   ],
   "source": [
    "prefix = 'eugr_hc_stack_rr'\n",
    "model_name = 'LogisticRegression'\n",
    "model_dir = 'model'\n",
    "\n",
    "train_and_save_model(prefix, models_and_params[model_name], model_dir)\n",
    "\n",
    "output_type = 'probability'\n",
    "load_and_predict(prefix, 'train', output_type, model_dir)\n",
    "load_and_predict(prefix, 'validation', output_type, model_dir)\n",
    "load_and_predict(prefix, 'test', output_type, model_dir)"
   ]
  },
  {
   "cell_type": "code",
   "execution_count": 28,
   "id": "6c09f755-3113-4c8b-a30f-2739cf638ebe",
   "metadata": {},
   "outputs": [
    {
     "name": "stdout",
     "output_type": "stream",
     "text": [
      "Results saved at inst/extdata/model/eugr_hc_stack_rr_independent_test_prob.csv\n"
     ]
    }
   ],
   "source": [
    "prefix = 'eugr_hc_stack_rr'\n",
    "model_name = 'LogisticRegression'\n",
    "model_dir = 'model'\n",
    "\n",
    "output_type = 'probability'\n",
    "load_and_predict(prefix, 'independent_test', output_type, model_dir)"
   ]
  },
  {
   "cell_type": "code",
   "execution_count": 9,
   "id": "a6d77676-7d15-4d72-90ef-821d8844d8fe",
   "metadata": {},
   "outputs": [
    {
     "name": "stdout",
     "output_type": "stream",
     "text": [
      "Results saved at inst/extdata/model/eugr_hc_stack_rr_train_shap_values.csv\n"
     ]
    }
   ],
   "source": [
    "prefix = 'eugr_hc_stack_rr'\n",
    "model_name = 'LogisticRegression'\n",
    "model_dir = 'model'\n",
    "\n",
    "compute_shap_values(prefix, 'train', explainers[model_name], model_dir)"
   ]
  },
  {
   "cell_type": "code",
   "execution_count": 35,
   "id": "41796739-941f-4c3e-903c-99bfbc865ad4",
   "metadata": {},
   "outputs": [
    {
     "name": "stdout",
     "output_type": "stream",
     "text": [
      "Scaler saved at inst/extdata/model/eugr_hc_stack_rf_scaler.joblib\n",
      "Model saved at inst/extdata/model/eugr_hc_stack_rf_best_model.joblib\n",
      "Results saved at inst/extdata/model/eugr_hc_stack_rf_train_prob.csv\n",
      "Results saved at inst/extdata/model/eugr_hc_stack_rf_validation_prob.csv\n",
      "Results saved at inst/extdata/model/eugr_hc_stack_rf_test_prob.csv\n"
     ]
    }
   ],
   "source": [
    "prefix = 'eugr_hc_stack_rf'\n",
    "model_name = 'RandomForest'\n",
    "model_dir = 'model'\n",
    "\n",
    "train_and_save_model(prefix, models_and_params[model_name], model_dir)\n",
    "\n",
    "output_type = 'probability'\n",
    "load_and_predict(prefix, 'train', output_type, model_dir)\n",
    "load_and_predict(prefix, 'validation', output_type, model_dir)\n",
    "load_and_predict(prefix, 'test', output_type, model_dir)"
   ]
  },
  {
   "cell_type": "code",
   "execution_count": 29,
   "id": "e9cb239b-aa11-4492-88e0-f62d9d0b357e",
   "metadata": {},
   "outputs": [
    {
     "name": "stdout",
     "output_type": "stream",
     "text": [
      "Results saved at inst/extdata/model/eugr_hc_stack_rf_independent_test_prob.csv\n"
     ]
    }
   ],
   "source": [
    "prefix = 'eugr_hc_stack_rf'\n",
    "model_name = 'RandomForest'\n",
    "model_dir = 'model'\n",
    "\n",
    "output_type = 'probability'\n",
    "load_and_predict(prefix, 'independent_test', output_type, model_dir)"
   ]
  },
  {
   "cell_type": "code",
   "execution_count": 36,
   "id": "9f1a6e97-7e79-4e49-8af7-c0420e8c956c",
   "metadata": {},
   "outputs": [
    {
     "name": "stdout",
     "output_type": "stream",
     "text": [
      "Scaler saved at inst/extdata/model/eugr_hc_stack_gbm_scaler.joblib\n",
      "Model saved at inst/extdata/model/eugr_hc_stack_gbm_best_model.joblib\n",
      "Results saved at inst/extdata/model/eugr_hc_stack_gbm_train_prob.csv\n",
      "Results saved at inst/extdata/model/eugr_hc_stack_gbm_validation_prob.csv\n",
      "Results saved at inst/extdata/model/eugr_hc_stack_gbm_test_prob.csv\n"
     ]
    }
   ],
   "source": [
    "prefix = 'eugr_hc_stack_gbm'\n",
    "model_name = 'GradientBoosting'\n",
    "model_dir = 'model'\n",
    "\n",
    "train_and_save_model(prefix, models_and_params[model_name], model_dir)\n",
    "\n",
    "output_type = 'probability'\n",
    "load_and_predict(prefix, 'train', output_type, model_dir)\n",
    "load_and_predict(prefix, 'validation', output_type, model_dir)\n",
    "load_and_predict(prefix, 'test', output_type, model_dir)"
   ]
  },
  {
   "cell_type": "code",
   "execution_count": 30,
   "id": "2eadf502-2b4a-47c2-b2a2-7bd7d4d21096",
   "metadata": {},
   "outputs": [
    {
     "name": "stdout",
     "output_type": "stream",
     "text": [
      "Results saved at inst/extdata/model/eugr_hc_stack_gbm_independent_test_prob.csv\n"
     ]
    }
   ],
   "source": [
    "prefix = 'eugr_hc_stack_gbm'\n",
    "model_name = 'GradientBoosting'\n",
    "model_dir = 'model'\n",
    "\n",
    "output_type = 'probability'\n",
    "load_and_predict(prefix, 'independent_test', output_type, model_dir)"
   ]
  },
  {
   "cell_type": "code",
   "execution_count": 37,
   "id": "e1c6a41a-4bee-4495-a935-a2a5d5f06f85",
   "metadata": {},
   "outputs": [
    {
     "name": "stdout",
     "output_type": "stream",
     "text": [
      "Scaler saved at inst/extdata/model/eugr_hc_stack_dnn_scaler.joblib\n",
      "Model saved at inst/extdata/model/eugr_hc_stack_dnn_best_model.joblib\n",
      "Results saved at inst/extdata/model/eugr_hc_stack_dnn_train_prob.csv\n",
      "Results saved at inst/extdata/model/eugr_hc_stack_dnn_validation_prob.csv\n",
      "Results saved at inst/extdata/model/eugr_hc_stack_dnn_test_prob.csv\n"
     ]
    }
   ],
   "source": [
    "prefix = 'eugr_hc_stack_dnn'\n",
    "model_name = 'DeepNeuralNetwork'\n",
    "model_dir = 'model'\n",
    "\n",
    "custom_precision = make_scorer(precision_score, zero_division=0)\n",
    "train_and_save_model(prefix, models_and_params[model_name], model_dir, scoring=custom_precision)\n",
    "\n",
    "output_type = 'probability'\n",
    "load_and_predict(prefix, 'train', output_type, model_dir)\n",
    "load_and_predict(prefix, 'validation', output_type, model_dir)\n",
    "load_and_predict(prefix, 'test', output_type, model_dir)"
   ]
  },
  {
   "cell_type": "code",
   "execution_count": 31,
   "id": "7b27642b-5484-4189-90d6-f5c148a4afb5",
   "metadata": {},
   "outputs": [
    {
     "name": "stdout",
     "output_type": "stream",
     "text": [
      "Results saved at inst/extdata/model/eugr_hc_stack_dnn_independent_test_prob.csv\n"
     ]
    }
   ],
   "source": [
    "prefix = 'eugr_hc_stack_dnn'\n",
    "model_name = 'DeepNeuralNetwork'\n",
    "model_dir = 'model'\n",
    "\n",
    "output_type = 'probability'\n",
    "load_and_predict(prefix, 'independent_test', output_type, model_dir)"
   ]
  },
  {
   "cell_type": "markdown",
   "id": "5fae5b6a-cc7a-4326-a778-6675b9c97e33",
   "metadata": {},
   "source": [
    "## EUGR-BW prediction"
   ]
  },
  {
   "cell_type": "code",
   "execution_count": 39,
   "id": "c9d6385b-0641-41c4-ad51-aa1fd02bad23",
   "metadata": {},
   "outputs": [
    {
     "name": "stdout",
     "output_type": "stream",
     "text": [
      "Scaler saved at inst/extdata/model/eugr_bw_baseline2_rr_scaler.joblib\n",
      "Model saved at inst/extdata/model/eugr_bw_baseline2_rr_best_model.joblib\n",
      "Results saved at inst/extdata/model/eugr_bw_baseline2_rr_train_prob.csv\n",
      "Results saved at inst/extdata/model/eugr_bw_baseline2_rr_validation_prob.csv\n",
      "Results saved at inst/extdata/model/eugr_bw_baseline2_rr_test_prob.csv\n"
     ]
    }
   ],
   "source": [
    "prefix = 'eugr_bw_baseline2_rr'\n",
    "model_name = 'LogisticRegression'\n",
    "model_dir = 'model'\n",
    "\n",
    "custom_precision = make_scorer(precision_score, zero_division=0)\n",
    "train_and_save_model(prefix, models_and_params[model_name], model_dir, scoring=custom_precision)\n",
    "\n",
    "output_type = 'probability'\n",
    "load_and_predict(prefix, 'train', output_type, model_dir)\n",
    "load_and_predict(prefix, 'validation', output_type, model_dir)\n",
    "load_and_predict(prefix, 'test', output_type, model_dir)"
   ]
  },
  {
   "cell_type": "code",
   "execution_count": 32,
   "id": "14304f1e-a55d-40a6-86b8-193f33500e45",
   "metadata": {},
   "outputs": [
    {
     "name": "stdout",
     "output_type": "stream",
     "text": [
      "Results saved at inst/extdata/model/eugr_bw_baseline2_rr_independent_test_prob.csv\n"
     ]
    }
   ],
   "source": [
    "prefix = 'eugr_bw_baseline2_rr'\n",
    "model_name = 'LogisticRegression'\n",
    "model_dir = 'model'\n",
    "\n",
    "output_type = 'probability'\n",
    "load_and_predict(prefix, 'independent_test', output_type, model_dir)"
   ]
  },
  {
   "cell_type": "code",
   "execution_count": 10,
   "id": "afe4970c-360b-4453-a768-736992ae3e18",
   "metadata": {},
   "outputs": [
    {
     "name": "stdout",
     "output_type": "stream",
     "text": [
      "Results saved at inst/extdata/model/eugr_bw_baseline2_rr_train_shap_values.csv\n"
     ]
    }
   ],
   "source": [
    "prefix = 'eugr_bw_baseline2_rr'\n",
    "model_name = 'LogisticRegression'\n",
    "model_dir = 'model'\n",
    "\n",
    "compute_shap_values(prefix, 'train', explainers[model_name], model_dir)"
   ]
  },
  {
   "cell_type": "code",
   "execution_count": 41,
   "id": "a70e6b0e-b1bf-4a15-a895-95c6135285d8",
   "metadata": {},
   "outputs": [
    {
     "name": "stdout",
     "output_type": "stream",
     "text": [
      "Scaler saved at inst/extdata/model/eugr_bw_stack1_rr_scaler.joblib\n",
      "Model saved at inst/extdata/model/eugr_bw_stack1_rr_best_model.joblib\n",
      "Results saved at inst/extdata/model/eugr_bw_stack1_rr_train_prob.csv\n",
      "Results saved at inst/extdata/model/eugr_bw_stack1_rr_validation_prob.csv\n",
      "Results saved at inst/extdata/model/eugr_bw_stack1_rr_test_prob.csv\n"
     ]
    }
   ],
   "source": [
    "prefix = 'eugr_bw_stack1_rr'\n",
    "model_name = 'LogisticRegression'\n",
    "model_dir = 'model'\n",
    "\n",
    "custom_precision = make_scorer(precision_score, zero_division=0)\n",
    "train_and_save_model(prefix, models_and_params[model_name], model_dir, scoring=custom_precision)\n",
    "\n",
    "output_type = 'probability'\n",
    "load_and_predict(prefix, 'train', output_type, model_dir)\n",
    "load_and_predict(prefix, 'validation', output_type, model_dir)\n",
    "load_and_predict(prefix, 'test', output_type, model_dir)"
   ]
  },
  {
   "cell_type": "code",
   "execution_count": 33,
   "id": "98d70843-4ed2-43f5-8264-04de58852db8",
   "metadata": {},
   "outputs": [
    {
     "name": "stdout",
     "output_type": "stream",
     "text": [
      "Results saved at inst/extdata/model/eugr_bw_stack1_rr_independent_test_prob.csv\n"
     ]
    }
   ],
   "source": [
    "prefix = 'eugr_bw_stack1_rr'\n",
    "model_name = 'LogisticRegression'\n",
    "model_dir = 'model'\n",
    "\n",
    "output_type = 'probability'\n",
    "load_and_predict(prefix, 'independent_test', output_type, model_dir)"
   ]
  },
  {
   "cell_type": "code",
   "execution_count": 42,
   "id": "e40ca2d4-a6e5-4db3-ae88-73f7cb48671e",
   "metadata": {
    "scrolled": true
   },
   "outputs": [
    {
     "name": "stdout",
     "output_type": "stream",
     "text": [
      "Scaler saved at inst/extdata/model/eugr_bw_stack1_rf_scaler.joblib\n",
      "Model saved at inst/extdata/model/eugr_bw_stack1_rf_best_model.joblib\n",
      "Results saved at inst/extdata/model/eugr_bw_stack1_rf_train_prob.csv\n",
      "Results saved at inst/extdata/model/eugr_bw_stack1_rf_validation_prob.csv\n",
      "Results saved at inst/extdata/model/eugr_bw_stack1_rf_test_prob.csv\n"
     ]
    }
   ],
   "source": [
    "prefix = 'eugr_bw_stack1_rf'\n",
    "model_name = 'RandomForest'\n",
    "model_dir = 'model'\n",
    "\n",
    "custom_precision = make_scorer(precision_score, zero_division=0)\n",
    "train_and_save_model(prefix, models_and_params[model_name], model_dir, scoring=custom_precision)\n",
    "\n",
    "output_type = 'probability'\n",
    "load_and_predict(prefix, 'train', output_type, model_dir)\n",
    "load_and_predict(prefix, 'validation', output_type, model_dir)\n",
    "load_and_predict(prefix, 'test', output_type, model_dir)"
   ]
  },
  {
   "cell_type": "code",
   "execution_count": 34,
   "id": "457840b9-9655-425e-a25d-b4ea1ec67acd",
   "metadata": {
    "scrolled": true
   },
   "outputs": [
    {
     "name": "stdout",
     "output_type": "stream",
     "text": [
      "Results saved at inst/extdata/model/eugr_bw_stack1_rf_independent_test_prob.csv\n"
     ]
    }
   ],
   "source": [
    "prefix = 'eugr_bw_stack1_rf'\n",
    "model_name = 'RandomForest'\n",
    "model_dir = 'model'\n",
    "\n",
    "output_type = 'probability'\n",
    "load_and_predict(prefix, 'independent_test', output_type, model_dir)"
   ]
  },
  {
   "cell_type": "code",
   "execution_count": 43,
   "id": "bb90f625-c57f-4db3-8107-5c6aebd1fa67",
   "metadata": {},
   "outputs": [
    {
     "name": "stdout",
     "output_type": "stream",
     "text": [
      "Scaler saved at inst/extdata/model/eugr_bw_stack1_gbm_scaler.joblib\n",
      "Model saved at inst/extdata/model/eugr_bw_stack1_gbm_best_model.joblib\n",
      "Results saved at inst/extdata/model/eugr_bw_stack1_gbm_train_prob.csv\n",
      "Results saved at inst/extdata/model/eugr_bw_stack1_gbm_validation_prob.csv\n",
      "Results saved at inst/extdata/model/eugr_bw_stack1_gbm_test_prob.csv\n"
     ]
    }
   ],
   "source": [
    "prefix = 'eugr_bw_stack1_gbm'\n",
    "model_name = 'GradientBoosting'\n",
    "model_dir = 'model'\n",
    "\n",
    "custom_precision = make_scorer(precision_score, zero_division=0)\n",
    "train_and_save_model(prefix, models_and_params[model_name], model_dir, scoring=custom_precision)\n",
    "\n",
    "output_type = 'probability'\n",
    "load_and_predict(prefix, 'train', output_type, model_dir)\n",
    "load_and_predict(prefix, 'validation', output_type, model_dir)\n",
    "load_and_predict(prefix, 'test', output_type, model_dir)"
   ]
  },
  {
   "cell_type": "code",
   "execution_count": 35,
   "id": "227f04e2-2a1d-4ab9-8479-eb829111a8a5",
   "metadata": {},
   "outputs": [
    {
     "name": "stdout",
     "output_type": "stream",
     "text": [
      "Results saved at inst/extdata/model/eugr_bw_stack1_gbm_independent_test_prob.csv\n"
     ]
    }
   ],
   "source": [
    "prefix = 'eugr_bw_stack1_gbm'\n",
    "model_name = 'GradientBoosting'\n",
    "model_dir = 'model'\n",
    "\n",
    "output_type = 'probability'\n",
    "load_and_predict(prefix, 'independent_test', output_type, model_dir)"
   ]
  },
  {
   "cell_type": "code",
   "execution_count": 44,
   "id": "72240764-3c11-482f-85c4-3b8f1842857b",
   "metadata": {},
   "outputs": [
    {
     "name": "stdout",
     "output_type": "stream",
     "text": [
      "Scaler saved at inst/extdata/model/eugr_bw_stack1_dnn_scaler.joblib\n",
      "Model saved at inst/extdata/model/eugr_bw_stack1_dnn_best_model.joblib\n",
      "Results saved at inst/extdata/model/eugr_bw_stack1_dnn_train_prob.csv\n",
      "Results saved at inst/extdata/model/eugr_bw_stack1_dnn_validation_prob.csv\n",
      "Results saved at inst/extdata/model/eugr_bw_stack1_dnn_test_prob.csv\n"
     ]
    }
   ],
   "source": [
    "prefix = 'eugr_bw_stack1_dnn'\n",
    "model_name = 'DeepNeuralNetwork'\n",
    "model_dir = 'model'\n",
    "\n",
    "custom_precision = make_scorer(precision_score, zero_division=0)\n",
    "train_and_save_model(prefix, models_and_params[model_name], model_dir, scoring=custom_precision)\n",
    "\n",
    "output_type = 'probability'\n",
    "load_and_predict(prefix, 'train', output_type, model_dir)\n",
    "load_and_predict(prefix, 'validation', output_type, model_dir)\n",
    "load_and_predict(prefix, 'test', output_type, model_dir)"
   ]
  },
  {
   "cell_type": "code",
   "execution_count": 36,
   "id": "aa82bc0d-3060-427c-a30e-7da6608142b9",
   "metadata": {},
   "outputs": [
    {
     "name": "stdout",
     "output_type": "stream",
     "text": [
      "Results saved at inst/extdata/model/eugr_bw_stack1_dnn_independent_test_prob.csv\n"
     ]
    }
   ],
   "source": [
    "prefix = 'eugr_bw_stack1_dnn'\n",
    "model_name = 'DeepNeuralNetwork'\n",
    "model_dir = 'model'\n",
    "\n",
    "output_type = 'probability'\n",
    "load_and_predict(prefix, 'independent_test', output_type, model_dir)"
   ]
  },
  {
   "cell_type": "code",
   "execution_count": 18,
   "id": "1441df09-b390-45c9-84ad-05d97cf8c3f4",
   "metadata": {},
   "outputs": [
    {
     "name": "stderr",
     "output_type": "stream",
     "text": [
      "100%|█| 19950/19950 [08:12<00:00, 40.50it/\n"
     ]
    },
    {
     "name": "stdout",
     "output_type": "stream",
     "text": [
      "Results saved at inst/extdata/model/eugr_bw_stack1_dnn_train_shap_values.csv\n"
     ]
    }
   ],
   "source": [
    "prefix = 'eugr_bw_stack1_dnn'\n",
    "model_name = 'DeepNeuralNetwork'\n",
    "model_dir = 'model'\n",
    "\n",
    "compute_shap_values(prefix, 'train', explainers[model_name], model_dir)"
   ]
  },
  {
   "cell_type": "code",
   "execution_count": 46,
   "id": "e3bb37eb-2467-4eba-aaa0-3db7a0b209b5",
   "metadata": {},
   "outputs": [
    {
     "name": "stdout",
     "output_type": "stream",
     "text": [
      "Scaler saved at inst/extdata/model/eugr_bw_stack_rr_scaler.joblib\n",
      "Model saved at inst/extdata/model/eugr_bw_stack_rr_best_model.joblib\n",
      "Results saved at inst/extdata/model/eugr_bw_stack_rr_train_prob.csv\n",
      "Results saved at inst/extdata/model/eugr_bw_stack_rr_validation_prob.csv\n",
      "Results saved at inst/extdata/model/eugr_bw_stack_rr_test_prob.csv\n"
     ]
    }
   ],
   "source": [
    "prefix = 'eugr_bw_stack_rr'\n",
    "model_name = 'LogisticRegression'\n",
    "model_dir = 'model'\n",
    "\n",
    "custom_precision = make_scorer(precision_score, zero_division=0)\n",
    "train_and_save_model(prefix, models_and_params[model_name], model_dir, scoring=custom_precision)\n",
    "\n",
    "output_type = 'probability'\n",
    "load_and_predict(prefix, 'train', output_type, model_dir)\n",
    "load_and_predict(prefix, 'validation', output_type, model_dir)\n",
    "load_and_predict(prefix, 'test', output_type, model_dir)"
   ]
  },
  {
   "cell_type": "code",
   "execution_count": 37,
   "id": "76ab07f6-2728-49a2-8c72-312912ce7aea",
   "metadata": {},
   "outputs": [
    {
     "name": "stdout",
     "output_type": "stream",
     "text": [
      "Results saved at inst/extdata/model/eugr_bw_stack_rr_independent_test_prob.csv\n"
     ]
    }
   ],
   "source": [
    "prefix = 'eugr_bw_stack_rr'\n",
    "model_name = 'LogisticRegression'\n",
    "model_dir = 'model'\n",
    "\n",
    "output_type = 'probability'\n",
    "load_and_predict(prefix, 'independent_test', output_type, model_dir)"
   ]
  },
  {
   "cell_type": "code",
   "execution_count": 11,
   "id": "b7da600f-1f69-44d1-8405-eef72ba5c6f1",
   "metadata": {},
   "outputs": [
    {
     "name": "stdout",
     "output_type": "stream",
     "text": [
      "Results saved at inst/extdata/model/eugr_bw_stack_rr_train_shap_values.csv\n"
     ]
    }
   ],
   "source": [
    "prefix = 'eugr_bw_stack_rr'\n",
    "model_name = 'LogisticRegression'\n",
    "model_dir = 'model'\n",
    "\n",
    "compute_shap_values(prefix, 'train', explainers[model_name], model_dir)"
   ]
  },
  {
   "cell_type": "code",
   "execution_count": 47,
   "id": "01dd27af-7786-4a45-8046-aab1d3d367bc",
   "metadata": {},
   "outputs": [
    {
     "name": "stdout",
     "output_type": "stream",
     "text": [
      "Scaler saved at inst/extdata/model/eugr_bw_stack_rf_scaler.joblib\n",
      "Model saved at inst/extdata/model/eugr_bw_stack_rf_best_model.joblib\n",
      "Results saved at inst/extdata/model/eugr_bw_stack_rf_train_prob.csv\n",
      "Results saved at inst/extdata/model/eugr_bw_stack_rf_validation_prob.csv\n",
      "Results saved at inst/extdata/model/eugr_bw_stack_rf_test_prob.csv\n"
     ]
    }
   ],
   "source": [
    "prefix = 'eugr_bw_stack_rf'\n",
    "model_name = 'RandomForest'\n",
    "model_dir = 'model'\n",
    "\n",
    "custom_precision = make_scorer(precision_score, zero_division=0)\n",
    "train_and_save_model(prefix, models_and_params[model_name], model_dir, scoring=custom_precision)\n",
    "\n",
    "output_type = 'probability'\n",
    "load_and_predict(prefix, 'train', output_type, model_dir)\n",
    "load_and_predict(prefix, 'validation', output_type, model_dir)\n",
    "load_and_predict(prefix, 'test', output_type, model_dir)"
   ]
  },
  {
   "cell_type": "code",
   "execution_count": 38,
   "id": "27631bc1-6d41-40c6-a181-3dc53163e741",
   "metadata": {},
   "outputs": [
    {
     "name": "stdout",
     "output_type": "stream",
     "text": [
      "Results saved at inst/extdata/model/eugr_bw_stack_rf_independent_test_prob.csv\n"
     ]
    }
   ],
   "source": [
    "prefix = 'eugr_bw_stack_rf'\n",
    "model_name = 'RandomForest'\n",
    "model_dir = 'model'\n",
    "\n",
    "output_type = 'probability'\n",
    "load_and_predict(prefix, 'independent_test', output_type, model_dir)"
   ]
  },
  {
   "cell_type": "code",
   "execution_count": 48,
   "id": "ddf7db2b-fac1-4c44-bc67-979ba62d6111",
   "metadata": {},
   "outputs": [
    {
     "name": "stdout",
     "output_type": "stream",
     "text": [
      "Scaler saved at inst/extdata/model/eugr_bw_stack_gbm_scaler.joblib\n",
      "Model saved at inst/extdata/model/eugr_bw_stack_gbm_best_model.joblib\n",
      "Results saved at inst/extdata/model/eugr_bw_stack_gbm_train_prob.csv\n",
      "Results saved at inst/extdata/model/eugr_bw_stack_gbm_validation_prob.csv\n",
      "Results saved at inst/extdata/model/eugr_bw_stack_gbm_test_prob.csv\n"
     ]
    }
   ],
   "source": [
    "prefix = 'eugr_bw_stack_gbm'\n",
    "model_name = 'GradientBoosting'\n",
    "model_dir = 'model'\n",
    "\n",
    "custom_precision = make_scorer(precision_score, zero_division=0)\n",
    "train_and_save_model(prefix, models_and_params[model_name], model_dir, scoring=custom_precision)\n",
    "\n",
    "output_type = 'probability'\n",
    "load_and_predict(prefix, 'train', output_type, model_dir)\n",
    "load_and_predict(prefix, 'validation', output_type, model_dir)\n",
    "load_and_predict(prefix, 'test', output_type, model_dir)"
   ]
  },
  {
   "cell_type": "code",
   "execution_count": 39,
   "id": "e0e84150-c070-4c1f-b107-a84d17a6288f",
   "metadata": {},
   "outputs": [
    {
     "name": "stdout",
     "output_type": "stream",
     "text": [
      "Results saved at inst/extdata/model/eugr_bw_stack_gbm_independent_test_prob.csv\n"
     ]
    }
   ],
   "source": [
    "prefix = 'eugr_bw_stack_gbm'\n",
    "model_name = 'GradientBoosting'\n",
    "model_dir = 'model'\n",
    "\n",
    "output_type = 'probability'\n",
    "load_and_predict(prefix, 'independent_test', output_type, model_dir)"
   ]
  },
  {
   "cell_type": "code",
   "execution_count": 49,
   "id": "8bad99be-a224-4923-860a-cccb8531725f",
   "metadata": {},
   "outputs": [
    {
     "name": "stdout",
     "output_type": "stream",
     "text": [
      "Scaler saved at inst/extdata/model/eugr_bw_stack_dnn_scaler.joblib\n",
      "Model saved at inst/extdata/model/eugr_bw_stack_dnn_best_model.joblib\n",
      "Results saved at inst/extdata/model/eugr_bw_stack_dnn_train_prob.csv\n",
      "Results saved at inst/extdata/model/eugr_bw_stack_dnn_validation_prob.csv\n",
      "Results saved at inst/extdata/model/eugr_bw_stack_dnn_test_prob.csv\n"
     ]
    }
   ],
   "source": [
    "prefix = 'eugr_bw_stack_dnn'\n",
    "model_name = 'DeepNeuralNetwork'\n",
    "model_dir = 'model'\n",
    "\n",
    "custom_precision = make_scorer(precision_score, zero_division=0)\n",
    "train_and_save_model(prefix, models_and_params[model_name], model_dir, scoring=custom_precision)\n",
    "\n",
    "output_type = 'probability'\n",
    "load_and_predict(prefix, 'train', output_type, model_dir)\n",
    "load_and_predict(prefix, 'validation', output_type, model_dir)\n",
    "load_and_predict(prefix, 'test', output_type, model_dir)"
   ]
  },
  {
   "cell_type": "code",
   "execution_count": 40,
   "id": "31a35422-ec73-4b9b-be08-3a1d1918c90b",
   "metadata": {},
   "outputs": [
    {
     "name": "stdout",
     "output_type": "stream",
     "text": [
      "Results saved at inst/extdata/model/eugr_bw_stack_dnn_independent_test_prob.csv\n"
     ]
    }
   ],
   "source": [
    "prefix = 'eugr_bw_stack_dnn'\n",
    "model_name = 'DeepNeuralNetwork'\n",
    "model_dir = 'model'\n",
    "\n",
    "output_type = 'probability'\n",
    "load_and_predict(prefix, 'independent_test', output_type, model_dir)"
   ]
  },
  {
   "cell_type": "markdown",
   "id": "afa4055d-cef6-4be6-978e-6f7a7ab40643",
   "metadata": {},
   "source": [
    "## Failed hearing test prediction"
   ]
  },
  {
   "cell_type": "code",
   "execution_count": 51,
   "id": "c00d9853-9cbb-4a6c-a86d-96237244f2d9",
   "metadata": {},
   "outputs": [
    {
     "name": "stdout",
     "output_type": "stream",
     "text": [
      "Scaler saved at inst/extdata/model/hearing_stack_rr_scaler.joblib\n",
      "Model saved at inst/extdata/model/hearing_stack_rr_best_model.joblib\n",
      "Results saved at inst/extdata/model/hearing_stack_rr_train_prob.csv\n",
      "Results saved at inst/extdata/model/hearing_stack_rr_validation_prob.csv\n",
      "Results saved at inst/extdata/model/hearing_stack_rr_test_prob.csv\n"
     ]
    }
   ],
   "source": [
    "prefix = 'hearing_stack_rr'\n",
    "model_name = 'LogisticRegression'\n",
    "model_dir = 'model'\n",
    "\n",
    "custom_precision = make_scorer(precision_score, zero_division=0)\n",
    "train_and_save_model(prefix, models_and_params[model_name], model_dir, scoring=custom_precision)\n",
    "\n",
    "output_type = 'probability'\n",
    "load_and_predict(prefix, 'train', output_type, model_dir)\n",
    "load_and_predict(prefix, 'validation', output_type, model_dir)\n",
    "load_and_predict(prefix, 'test', output_type, model_dir)"
   ]
  },
  {
   "cell_type": "code",
   "execution_count": 41,
   "id": "8341bfe0-cccc-4d6e-8085-978043664d2b",
   "metadata": {},
   "outputs": [
    {
     "name": "stdout",
     "output_type": "stream",
     "text": [
      "Results saved at inst/extdata/model/hearing_stack_rr_independent_test_prob.csv\n"
     ]
    }
   ],
   "source": [
    "prefix = 'hearing_stack_rr'\n",
    "model_name = 'LogisticRegression'\n",
    "model_dir = 'model'\n",
    "\n",
    "output_type = 'probability'\n",
    "load_and_predict(prefix, 'independent_test', output_type, model_dir)"
   ]
  },
  {
   "cell_type": "code",
   "execution_count": 12,
   "id": "715c582c-5a75-4e70-8db7-0f8291e484cb",
   "metadata": {},
   "outputs": [
    {
     "name": "stdout",
     "output_type": "stream",
     "text": [
      "Results saved at inst/extdata/model/hearing_stack_rr_train_shap_values.csv\n"
     ]
    }
   ],
   "source": [
    "prefix = 'hearing_stack_rr'\n",
    "model_name = 'LogisticRegression'\n",
    "model_dir = 'model'\n",
    "\n",
    "compute_shap_values(prefix, 'train', explainers[model_name], model_dir)"
   ]
  },
  {
   "cell_type": "code",
   "execution_count": 52,
   "id": "7ed33b2e-a277-45e9-b0e1-586a1d94e268",
   "metadata": {},
   "outputs": [
    {
     "name": "stdout",
     "output_type": "stream",
     "text": [
      "Scaler saved at inst/extdata/model/hearing_stack_rf_scaler.joblib\n",
      "Model saved at inst/extdata/model/hearing_stack_rf_best_model.joblib\n",
      "Results saved at inst/extdata/model/hearing_stack_rf_train_prob.csv\n",
      "Results saved at inst/extdata/model/hearing_stack_rf_validation_prob.csv\n",
      "Results saved at inst/extdata/model/hearing_stack_rf_test_prob.csv\n"
     ]
    }
   ],
   "source": [
    "prefix = 'hearing_stack_rf'\n",
    "model_name = 'RandomForest'\n",
    "model_dir = 'model'\n",
    "\n",
    "custom_precision = make_scorer(precision_score, zero_division=0)\n",
    "train_and_save_model(prefix, models_and_params[model_name], model_dir, scoring=custom_precision)\n",
    "\n",
    "output_type = 'probability'\n",
    "load_and_predict(prefix, 'train', output_type, model_dir)\n",
    "load_and_predict(prefix, 'validation', output_type, model_dir)\n",
    "load_and_predict(prefix, 'test', output_type, model_dir)"
   ]
  },
  {
   "cell_type": "code",
   "execution_count": 42,
   "id": "969a883a-f23b-442e-9b34-dd79d3700c4c",
   "metadata": {},
   "outputs": [
    {
     "name": "stdout",
     "output_type": "stream",
     "text": [
      "Results saved at inst/extdata/model/hearing_stack_rf_independent_test_prob.csv\n"
     ]
    }
   ],
   "source": [
    "prefix = 'hearing_stack_rf'\n",
    "model_name = 'RandomForest'\n",
    "model_dir = 'model'\n",
    "\n",
    "output_type = 'probability'\n",
    "load_and_predict(prefix, 'independent_test', output_type, model_dir)"
   ]
  },
  {
   "cell_type": "code",
   "execution_count": 53,
   "id": "e720b2bc-ee0b-407b-85de-0b4d5a936d27",
   "metadata": {},
   "outputs": [
    {
     "name": "stdout",
     "output_type": "stream",
     "text": [
      "Scaler saved at inst/extdata/model/hearing_stack_gbm_scaler.joblib\n",
      "Model saved at inst/extdata/model/hearing_stack_gbm_best_model.joblib\n",
      "Results saved at inst/extdata/model/hearing_stack_gbm_train_prob.csv\n",
      "Results saved at inst/extdata/model/hearing_stack_gbm_validation_prob.csv\n",
      "Results saved at inst/extdata/model/hearing_stack_gbm_test_prob.csv\n"
     ]
    }
   ],
   "source": [
    "prefix = 'hearing_stack_gbm'\n",
    "model_name = 'GradientBoosting'\n",
    "model_dir = 'model'\n",
    "\n",
    "custom_precision = make_scorer(precision_score, zero_division=0)\n",
    "train_and_save_model(prefix, models_and_params[model_name], model_dir, scoring=custom_precision)\n",
    "\n",
    "output_type = 'probability'\n",
    "load_and_predict(prefix, 'train', output_type, model_dir)\n",
    "load_and_predict(prefix, 'validation', output_type, model_dir)\n",
    "load_and_predict(prefix, 'test', output_type, model_dir)"
   ]
  },
  {
   "cell_type": "code",
   "execution_count": 43,
   "id": "c6644f69-2818-4e04-a2d9-015e4d0d2c41",
   "metadata": {},
   "outputs": [
    {
     "name": "stdout",
     "output_type": "stream",
     "text": [
      "Results saved at inst/extdata/model/hearing_stack_gbm_independent_test_prob.csv\n"
     ]
    }
   ],
   "source": [
    "prefix = 'hearing_stack_gbm'\n",
    "model_name = 'GradientBoosting'\n",
    "model_dir = 'model'\n",
    "\n",
    "output_type = 'probability'\n",
    "load_and_predict(prefix, 'independent_test', output_type, model_dir)"
   ]
  },
  {
   "cell_type": "code",
   "execution_count": 54,
   "id": "34d90f9e-5984-43c0-be88-94453a64f20c",
   "metadata": {},
   "outputs": [
    {
     "name": "stdout",
     "output_type": "stream",
     "text": [
      "Scaler saved at inst/extdata/model/hearing_stack_dnn_scaler.joblib\n",
      "Model saved at inst/extdata/model/hearing_stack_dnn_best_model.joblib\n",
      "Results saved at inst/extdata/model/hearing_stack_dnn_train_prob.csv\n",
      "Results saved at inst/extdata/model/hearing_stack_dnn_validation_prob.csv\n",
      "Results saved at inst/extdata/model/hearing_stack_dnn_test_prob.csv\n"
     ]
    }
   ],
   "source": [
    "prefix = 'hearing_stack_dnn'\n",
    "model_name = 'DeepNeuralNetwork'\n",
    "model_dir = 'model'\n",
    "\n",
    "custom_precision = make_scorer(precision_score, zero_division=0)\n",
    "train_and_save_model(prefix, models_and_params[model_name], model_dir, scoring=custom_precision)\n",
    "\n",
    "output_type = 'probability'\n",
    "load_and_predict(prefix, 'train', output_type, model_dir)\n",
    "load_and_predict(prefix, 'validation', output_type, model_dir)\n",
    "load_and_predict(prefix, 'test', output_type, model_dir)"
   ]
  },
  {
   "cell_type": "code",
   "execution_count": 44,
   "id": "5cca056a-337d-46bb-bb09-34cbe0fb0807",
   "metadata": {},
   "outputs": [
    {
     "name": "stdout",
     "output_type": "stream",
     "text": [
      "Results saved at inst/extdata/model/hearing_stack_dnn_independent_test_prob.csv\n"
     ]
    }
   ],
   "source": [
    "prefix = 'hearing_stack_dnn'\n",
    "model_name = 'DeepNeuralNetwork'\n",
    "model_dir = 'model'\n",
    "\n",
    "output_type = 'probability'\n",
    "load_and_predict(prefix, 'independent_test', output_type, model_dir)"
   ]
  }
 ],
 "metadata": {
  "kernelspec": {
   "display_name": "Python 3 (ipykernel)",
   "language": "python",
   "name": "python3"
  },
  "language_info": {
   "codemirror_mode": {
    "name": "ipython",
    "version": 3
   },
   "file_extension": ".py",
   "mimetype": "text/x-python",
   "name": "python",
   "nbconvert_exporter": "python",
   "pygments_lexer": "ipython3",
   "version": "3.12.4"
  }
 },
 "nbformat": 4,
 "nbformat_minor": 5
}
